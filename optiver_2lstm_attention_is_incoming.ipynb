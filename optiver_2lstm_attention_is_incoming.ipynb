{
  "cells": [
    {
      "cell_type": "code",
      "execution_count": 2,
      "id": "5dc32eda",
      "metadata": {
        "_cell_guid": "b1076dfc-b9ad-4769-8c92-a6c4dae69d19",
        "_uuid": "8f2839f25d086af736a60e9eeb907d3b93b6e0e5",
        "execution": {
          "iopub.execute_input": "2021-09-07T20:04:15.069590Z",
          "iopub.status.busy": "2021-09-07T20:04:15.067956Z",
          "iopub.status.idle": "2021-09-07T20:04:20.111250Z",
          "shell.execute_reply": "2021-09-07T20:04:20.110246Z",
          "shell.execute_reply.started": "2021-09-07T07:51:05.420488Z"
        },
        "papermill": {
          "duration": 5.071769,
          "end_time": "2021-09-07T20:04:20.111428",
          "exception": false,
          "start_time": "2021-09-07T20:04:15.039659",
          "status": "completed"
        },
        "tags": [],
        "id": "5dc32eda"
      },
      "outputs": [],
      "source": [
        "import os\n",
        "import gc\n",
        "import glob\n",
        "\n",
        "import numpy as np\n",
        "import pandas as pd\n",
        "\n",
        "from itertools import islice\n",
        "\n",
        "from multiprocessing import Pool\n",
        "from sklearn.preprocessing import MinMaxScaler, StandardScaler\n",
        "\n",
        "import tensorflow as tf\n",
        "import keras.backend as K\n",
        "\n",
        "from tensorflow.keras.layers import Dense, Lambda, Dot, Activation, Concatenate\n",
        "from tensorflow.keras.layers import Layer\n",
        "\n",
        "from sklearn.model_selection import train_test_split\n",
        "\n",
        "from tqdm.auto import tqdm\n",
        "tqdm.pandas()\n",
        "\n",
        "import warnings\n",
        "warnings.filterwarnings('ignore')"
      ]
    },
    {
      "cell_type": "code",
      "source": [
        "from google.colab import drive\n",
        "drive.mount('/content/drive')"
      ],
      "metadata": {
        "colab": {
          "base_uri": "https://localhost:8080/"
        },
        "id": "Pvhqs9Go3-84",
        "outputId": "a62ba9e3-5f51-4bfe-b0e1-6ff2444337d7"
      },
      "id": "Pvhqs9Go3-84",
      "execution_count": 3,
      "outputs": [
        {
          "output_type": "stream",
          "name": "stdout",
          "text": [
            "Drive already mounted at /content/drive; to attempt to forcibly remount, call drive.mount(\"/content/drive\", force_remount=True).\n"
          ]
        }
      ]
    },
    {
      "cell_type": "code",
      "execution_count": 4,
      "id": "a3cb77cf",
      "metadata": {
        "execution": {
          "iopub.execute_input": "2021-09-07T20:04:20.166060Z",
          "iopub.status.busy": "2021-09-07T20:04:20.164500Z",
          "iopub.status.idle": "2021-09-07T20:04:20.166789Z",
          "shell.execute_reply": "2021-09-07T20:04:20.167195Z",
          "shell.execute_reply.started": "2021-09-07T07:51:12.253654Z"
        },
        "papermill": {
          "duration": 0.032194,
          "end_time": "2021-09-07T20:04:20.167321",
          "exception": false,
          "start_time": "2021-09-07T20:04:20.135127",
          "status": "completed"
        },
        "tags": [],
        "id": "a3cb77cf"
      },
      "outputs": [],
      "source": [
        "NTHREADS = 4\n",
        "SEED = 42\n",
        "TRAIN_BATCH_SIZE = 256\n",
        "TEST_BATCH_SIZE = 256\n",
        "BUCKET_WINDOWS2 = [(0, 100), (100, 200), (200, 300), (300, 400), (400, 500), (500, 600)]\n",
        "\n",
        "DATA_PATH = '/content/drive/MyDrive/Colab Notebooks/OptiverVolatility'\n",
        "BOOK_TRAIN_PATH = '/content/drive/MyDrive/Colab Notebooks/OptiverVolatility/book_train.parquet'\n",
        "TRADE_TRAIN_PATH = '/content/drive/MyDrive/Colab Notebooks/OptiverVolatility/trade_train.parquet'\n",
        "BOOK_TEST_PATH = '/content/drive/MyDrive/Colab Notebooks/OptiverVolatility/book_test.parquet'\n",
        "TRADE_TEST_PATH = '/content/drive/MyDrive/Colab Notebooks/OptiverVolatility/trade_test.parquet'\n",
        "CHECKPOINT = './model_checkpoint/model_01'\n",
        "\n",
        "book_skip_columns = trade_skip_columns = ['time_id', 'row_id', 'target']"
      ]
    },
    {
      "cell_type": "code",
      "execution_count": 5,
      "id": "348444cb",
      "metadata": {
        "execution": {
          "iopub.execute_input": "2021-09-07T20:04:20.217873Z",
          "iopub.status.busy": "2021-09-07T20:04:20.217321Z",
          "iopub.status.idle": "2021-09-07T20:04:20.221144Z",
          "shell.execute_reply": "2021-09-07T20:04:20.220733Z",
          "shell.execute_reply.started": "2021-09-07T07:51:12.263708Z"
        },
        "papermill": {
          "duration": 0.030935,
          "end_time": "2021-09-07T20:04:20.221249",
          "exception": false,
          "start_time": "2021-09-07T20:04:20.190314",
          "status": "completed"
        },
        "tags": [],
        "id": "348444cb"
      },
      "outputs": [],
      "source": [
        "def get_path_dict(f, v):\n",
        "\n",
        "    f_dict = {}\n",
        "    for i in tqdm(v):\n",
        "        fpath = f'{f}/stock_id={i}'\n",
        "        flist = glob.glob(os.path.join(fpath, '*.parquet'))\n",
        "\n",
        "        if len(flist) > 0:\n",
        "            f_dict[i] = flist[0]\n",
        "\n",
        "    return f_dict"
      ]
    },
    {
      "cell_type": "code",
      "execution_count": 6,
      "id": "29994fab",
      "metadata": {
        "execution": {
          "iopub.execute_input": "2021-09-07T20:04:20.273606Z",
          "iopub.status.busy": "2021-09-07T20:04:20.273091Z",
          "iopub.status.idle": "2021-09-07T20:04:21.590799Z",
          "shell.execute_reply": "2021-09-07T20:04:21.589826Z",
          "shell.execute_reply.started": "2021-09-07T07:51:12.277075Z"
        },
        "papermill": {
          "duration": 1.346475,
          "end_time": "2021-09-07T20:04:21.590944",
          "exception": false,
          "start_time": "2021-09-07T20:04:20.244469",
          "status": "completed"
        },
        "tags": [],
        "colab": {
          "base_uri": "https://localhost:8080/"
        },
        "id": "29994fab",
        "outputId": "730d2bd1-4379-4732-858c-06f6457a07b1"
      },
      "outputs": [
        {
          "output_type": "stream",
          "name": "stdout",
          "text": [
            "Train ds shape: (428932, 3)\n",
            "Test ds shape: (3, 3)\n"
          ]
        }
      ],
      "source": [
        "train_ds = pd.read_csv(os.path.join(DATA_PATH, 'train.csv'))\n",
        "test_ds = pd.read_csv(os.path.join(DATA_PATH, 'test.csv'))\n",
        "print(f'Train ds shape: {train_ds.shape}')\n",
        "print(f'Test ds shape: {test_ds.shape}')\n",
        "train_ds['row_id'] = train_ds['stock_id'].astype(str) + '-' + train_ds['time_id'].astype(str)"
      ]
    },
    {
      "cell_type": "code",
      "execution_count": 7,
      "id": "deeca90b",
      "metadata": {
        "execution": {
          "iopub.execute_input": "2021-09-07T20:04:21.646208Z",
          "iopub.status.busy": "2021-09-07T20:04:21.645434Z",
          "iopub.status.idle": "2021-09-07T20:04:22.305628Z",
          "shell.execute_reply": "2021-09-07T20:04:22.304720Z",
          "shell.execute_reply.started": "2021-09-07T07:51:13.906691Z"
        },
        "papermill": {
          "duration": 0.689302,
          "end_time": "2021-09-07T20:04:22.305745",
          "exception": false,
          "start_time": "2021-09-07T20:04:21.616443",
          "status": "completed"
        },
        "tags": [],
        "colab": {
          "base_uri": "https://localhost:8080/",
          "height": 145,
          "referenced_widgets": [
            "bdd7d5c9c9ec4f429a9e3af38b468bfd",
            "031e2020587b4d65b38119864e6a2c10",
            "5b673aeb9a8447879fb88bf113994591",
            "698f917e18984fb88de816982fb39e9c",
            "d56781ce35264f41b251f812675465d5",
            "94297d42094440cf8752404796806f06",
            "0ef622ab0edd47af8156329df6053457",
            "315cfbcbbe1f473d9c12905a7261653e",
            "35aae24c09474d4aadf9071a504222b4",
            "14a1e4afcae447cba89f8f79d3c9cfb2",
            "94484b7089654bdcaf00f7c18442e088",
            "d93291c260ac48f8ac442bdf1dcf90dd",
            "9e49341ebb304627af311dda18ee2bdc",
            "85b403c5eac44b6a87a63b405b331192",
            "4dab94e892e941c688c8a915e3c7e834",
            "40badde84b7a4a90bc5d77dacf41fc39",
            "7eb079b54af94d348daeff23fc3d4d47",
            "0d37585e5a054bad80c9f85ccb821dde",
            "5f015064840149259180bb6039987eb6",
            "3c926a4f7785473e930d48f7f31482ed",
            "bf0206fce6fd4df3a642f01b96dda3a4",
            "0ffb71e07e624d5abf25a0ec133aeb55",
            "2b21252d75a44800b469d5580380cb6c",
            "fb3c63ac79354c318027d1f9c35e43d1",
            "5f6ebd40a6b94f19be33dddb21d8f768",
            "3999f2a0d9bf470e9777e92cf1aa50d2",
            "7febd5de8c45411d824386e1f587d0e7",
            "fda3686e833e4cd19f3b873d293cca3e",
            "28c223ea345948faaba7e9c36f802e6e",
            "1b39a23d27434835a0da8a1c26897a2d",
            "b7f30e22c0d54efc815c2f083383c005",
            "d3a4f07354e54ae6a8bbe88b79fa3b44",
            "1ae556d382b44162a0d0ce19229d515c",
            "fba79f8b4c7a4cf598d47527c593b532",
            "9fcd5427dc3943089552b98062630b2f",
            "0f23b27363c3470ea4b6eb2147ebb126",
            "62b2663ce1084aa7ac892e876e4e70df",
            "da676d6dfd1640bdb31b9f72760ffcc4",
            "b3fea564c7e340d08ffe3b928e09930e",
            "7ce9e75fcfa4453ebd8082d3fc626746",
            "2e6b16c07d9d480d8547a185008e6e06",
            "0314cb7275814111a51d7303cd14d7e2",
            "df3718435a014112b62e270ed80aa30d",
            "6e0070111fef4fbca829be69453400d3"
          ]
        },
        "id": "deeca90b",
        "outputId": "da09ec37-d6c3-42e1-c109-60e442479f7a"
      },
      "outputs": [
        {
          "output_type": "display_data",
          "data": {
            "text/plain": [
              "  0%|          | 0/112 [00:00<?, ?it/s]"
            ],
            "application/vnd.jupyter.widget-view+json": {
              "version_major": 2,
              "version_minor": 0,
              "model_id": "bdd7d5c9c9ec4f429a9e3af38b468bfd"
            }
          },
          "metadata": {}
        },
        {
          "output_type": "display_data",
          "data": {
            "text/plain": [
              "  0%|          | 0/112 [00:00<?, ?it/s]"
            ],
            "application/vnd.jupyter.widget-view+json": {
              "version_major": 2,
              "version_minor": 0,
              "model_id": "d93291c260ac48f8ac442bdf1dcf90dd"
            }
          },
          "metadata": {}
        },
        {
          "output_type": "display_data",
          "data": {
            "text/plain": [
              "  0%|          | 0/1 [00:00<?, ?it/s]"
            ],
            "application/vnd.jupyter.widget-view+json": {
              "version_major": 2,
              "version_minor": 0,
              "model_id": "2b21252d75a44800b469d5580380cb6c"
            }
          },
          "metadata": {}
        },
        {
          "output_type": "display_data",
          "data": {
            "text/plain": [
              "  0%|          | 0/1 [00:00<?, ?it/s]"
            ],
            "application/vnd.jupyter.widget-view+json": {
              "version_major": 2,
              "version_minor": 0,
              "model_id": "fba79f8b4c7a4cf598d47527c593b532"
            }
          },
          "metadata": {}
        }
      ],
      "source": [
        "book_train_dict = get_path_dict(BOOK_TRAIN_PATH, train_ds['stock_id'].unique())\n",
        "trade_train_dict = get_path_dict(TRADE_TRAIN_PATH, train_ds['stock_id'].unique())\n",
        "\n",
        "book_test_dict = get_path_dict(BOOK_TEST_PATH, test_ds['stock_id'].unique())\n",
        "trade_test_dict = get_path_dict(TRADE_TEST_PATH, test_ds['stock_id'].unique())"
      ]
    },
    {
      "cell_type": "code",
      "execution_count": 8,
      "id": "b1c2554f",
      "metadata": {
        "execution": {
          "iopub.execute_input": "2021-09-07T20:04:22.376232Z",
          "iopub.status.busy": "2021-09-07T20:04:22.374639Z",
          "iopub.status.idle": "2021-09-07T20:04:22.376955Z",
          "shell.execute_reply": "2021-09-07T20:04:22.377375Z",
          "shell.execute_reply.started": "2021-09-07T07:51:14.556570Z"
        },
        "papermill": {
          "duration": 0.046017,
          "end_time": "2021-09-07T20:04:22.377518",
          "exception": false,
          "start_time": "2021-09-07T20:04:22.331501",
          "status": "completed"
        },
        "tags": [],
        "id": "b1c2554f"
      },
      "outputs": [],
      "source": [
        "def calc_wap1(df):\n",
        "    # Function to calculate first WAP\n",
        "    wap = (df['bid_price1'] * df['ask_size1'] + df['ask_price1'] * df['bid_size1']) / (df['bid_size1'] + df['ask_size1'])\n",
        "    return wap\n",
        "\n",
        "def calc_wap2(df):\n",
        "    # Function to calculate second WAP\n",
        "    wap = (df['bid_price2'] * df['ask_size2'] + df['ask_price2'] * df['bid_size2']) / (df['bid_size2'] + df['ask_size2'])\n",
        "    return wap\n",
        "\n",
        "def calc_wap3(df):\n",
        "    wap = (df['bid_price1'] * df['bid_size1'] + df['ask_price1'] * df['ask_size1']) / (df['bid_size1'] + df['ask_size1'])\n",
        "    return wap\n",
        "\n",
        "def calc_wap4(df):\n",
        "    wap = (df['bid_price2'] * df['bid_size2'] + df['ask_price2'] * df['ask_size2']) / (df['bid_size2'] + df['ask_size2'])\n",
        "    return wap\n",
        "\n",
        "def calc_ma(df, colname, window_size):\n",
        "    a = df[colname].rolling(window=window_size).mean()\n",
        "    return a\n",
        "\n",
        "def calc_mstd(df, colname, window_size):\n",
        "    a = df[colname].rolling(window=window_size).std()\n",
        "    return a\n",
        "\n",
        "def calc_memw(df, colname, window_size):\n",
        "    a = df[colname].ewm(span=10).mean()\n",
        "    return a\n",
        "\n",
        "def log_return(series):\n",
        "    # Function to calculate the log of the return\n",
        "    return np.log(series).diff().fillna(0)\n",
        "\n",
        "def realized_volatility(series):\n",
        "    # Calculate the realized volatility\n",
        "    return np.sqrt(np.sum(series**2))\n",
        "\n",
        "def count_unique(series):\n",
        "    # Function to count unique elements of a series\n",
        "    return len(np.unique(series))\n",
        "\n",
        "def book_ds_fe(df):\n",
        "    # Calculate Wap\n",
        "    df['wap1'] = calc_wap1(df)\n",
        "    df['wap2'] = calc_wap2(df)\n",
        "\n",
        "    # Calculate log returns\n",
        "    df['log_return1'] = df.groupby(['time_id'])['wap1'].apply(log_return).reset_index(level=0, drop=True)\n",
        "    df['log_return2'] = df.groupby(['time_id'])['wap2'].apply(log_return).reset_index(level=0, drop=True)\n",
        "\n",
        "    # Calculate wap balance\n",
        "    df['wap_balance'] = abs(df['wap1'] - df['wap2'])\n",
        "\n",
        "    # Calculate spread\n",
        "    df['price_spread'] = (df['ask_price1'] - df['bid_price1']) / ((df['ask_price1'] + df['bid_price1']) / 2)\n",
        "    df['price_spread2'] = (df['ask_price2'] - df['bid_price2']) / ((df['ask_price2'] + df['bid_price2']) / 2)\n",
        "\n",
        "    df['bid_spread'] = df['bid_price1'] - df['bid_price2']\n",
        "    df['ask_spread'] = df['ask_price1'] - df['ask_price2']\n",
        "    df[\"bid_ask_spread\"] = abs(df['bid_spread'] - df['ask_spread'])\n",
        "\n",
        "    df['total_volume'] = (df['ask_size1'] + df['ask_size2']) + (df['bid_size1'] + df['bid_size2'])\n",
        "    df['volume_imbalance'] = abs((df['ask_size1'] + df['ask_size2']) - (df['bid_size1'] + df['bid_size2']))\n",
        "\n",
        "    #####\n",
        "    win_size = 10\n",
        "    bid_price1_ma = calc_ma(df, 'bid_price1', win_size)\n",
        "    ask_size1_ma = calc_ma(df, 'ask_size1', win_size)\n",
        "    ask_price1_ma = calc_ma(df, 'ask_price1', win_size)\n",
        "    bid_size1_ma = calc_ma(df, 'bid_size1', win_size)\n",
        "\n",
        "    bid_price2_ma = calc_ma(df, 'bid_price2', win_size)\n",
        "    ask_size2_ma = calc_ma(df, 'ask_size2', win_size)\n",
        "    ask_price2_ma = calc_ma(df, 'ask_price2', win_size)\n",
        "    bid_size2_ma = calc_ma(df, 'bid_size2', win_size)\n",
        "\n",
        "    df['wap1_ma'] = (bid_price1_ma * ask_size1_ma + ask_price1_ma * bid_size1_ma) / (bid_size1_ma + ask_size1_ma)\n",
        "    df['wap2_ma'] = (bid_price2_ma * ask_size2_ma + ask_price2_ma * bid_size2_ma) / (bid_size2_ma + ask_size2_ma)\n",
        "\n",
        "    return df\n",
        "\n",
        "def trade_ds_fe(df):\n",
        "    df['log_return'] = df.groupby('time_id')['price'].transform(log_return)\n",
        "    df['amount'] = df['price'] * df['size']\n",
        "    return df\n"
      ]
    },
    {
      "cell_type": "code",
      "execution_count": 9,
      "id": "cdbcb32d",
      "metadata": {
        "execution": {
          "iopub.execute_input": "2021-09-07T20:04:22.434833Z",
          "iopub.status.busy": "2021-09-07T20:04:22.434094Z",
          "iopub.status.idle": "2021-09-07T20:04:23.602162Z",
          "shell.execute_reply": "2021-09-07T20:04:23.601344Z",
          "shell.execute_reply.started": "2021-09-07T07:51:14.582145Z"
        },
        "papermill": {
          "duration": 1.19871,
          "end_time": "2021-09-07T20:04:23.602294",
          "exception": false,
          "start_time": "2021-09-07T20:04:22.403584",
          "status": "completed"
        },
        "tags": [],
        "id": "cdbcb32d"
      },
      "outputs": [],
      "source": [
        "import librosa\n",
        "\n",
        "''' MFCC coefficients contain information about the rate changes in the different spectrum bands '''\n",
        "def get_mfcc(a):\n",
        "    r = np.zeros((1, a.shape[1]))\n",
        "    for i in range(a.shape[1]):\n",
        "        mfcc = librosa.feature.mfcc(a[:, i])\n",
        "        mfcc_mean = mfcc.mean(axis=1)\n",
        "        #print(mfcc_mean)\n",
        "        #r[:, i] = np.mean(mfcc_mean)\n",
        "        r[:, i] = mfcc_mean[1]\n",
        "    return r"
      ]
    },
    {
      "cell_type": "code",
      "source": [
        "%%capture\n",
        "!pip install tsfresh"
      ],
      "metadata": {
        "id": "Rvbk8ybD4sW4"
      },
      "id": "Rvbk8ybD4sW4",
      "execution_count": 10,
      "outputs": []
    },
    {
      "cell_type": "code",
      "execution_count": 11,
      "id": "ed7f2a33",
      "metadata": {
        "execution": {
          "iopub.execute_input": "2021-09-07T20:04:23.659014Z",
          "iopub.status.busy": "2021-09-07T20:04:23.658272Z",
          "iopub.status.idle": "2021-09-07T20:04:27.546915Z",
          "shell.execute_reply": "2021-09-07T20:04:27.546012Z",
          "shell.execute_reply.started": "2021-09-07T07:51:16.269481Z"
        },
        "papermill": {
          "duration": 3.918705,
          "end_time": "2021-09-07T20:04:27.547069",
          "exception": false,
          "start_time": "2021-09-07T20:04:23.628364",
          "status": "completed"
        },
        "tags": [],
        "id": "ed7f2a33"
      },
      "outputs": [],
      "source": [
        "from tsfresh.feature_extraction import feature_calculators\n",
        "\n",
        "''' Number of peaks '''\n",
        "def get_number_peaks(a):\n",
        "    r = np.zeros((1, a.shape[1]))\n",
        "    for i in range(a.shape[1]):\n",
        "        r[:, i] = feature_calculators.number_peaks(a[:, i], 2)\n",
        "    return r"
      ]
    },
    {
      "cell_type": "code",
      "execution_count": 12,
      "id": "0650a776",
      "metadata": {
        "execution": {
          "iopub.execute_input": "2021-09-07T20:04:27.607158Z",
          "iopub.status.busy": "2021-09-07T20:04:27.605851Z",
          "iopub.status.idle": "2021-09-07T20:04:27.608394Z",
          "shell.execute_reply": "2021-09-07T20:04:27.608841Z",
          "shell.execute_reply.started": "2021-09-07T07:51:17.601252Z"
        },
        "papermill": {
          "duration": 0.037083,
          "end_time": "2021-09-07T20:04:27.608977",
          "exception": false,
          "start_time": "2021-09-07T20:04:27.571894",
          "status": "completed"
        },
        "tags": [],
        "id": "0650a776"
      },
      "outputs": [],
      "source": [
        "def np_seq_stat(a, s):\n",
        "    ''' a - array, s - seconds_in_bucket'''\n",
        "\n",
        "    r = []\n",
        "    for w in BUCKET_WINDOWS2:\n",
        "\n",
        "        idx = np.where(np.logical_and(s >= w[0], s < w[1]))[0]\n",
        "\n",
        "        s_min = np.zeros((1, a.shape[1]))\n",
        "        s_max = np.zeros((1, a.shape[1]))\n",
        "        s_mean = np.zeros((1, a.shape[1]))\n",
        "        s_std = np.zeros((1, a.shape[1]))\n",
        "        s_median = np.zeros((1, a.shape[1]))\n",
        "        s_sum = np.zeros((1, a.shape[1]))\n",
        "        #s_mfcc = np.zeros((1, a.shape[1]))\n",
        "        #s_peaks = np.zeros((1, a.shape[1]))\n",
        "\n",
        "        if a[idx].shape[0] > 0:\n",
        "            s_min = np.min(a[idx], axis=0, keepdims=True)\n",
        "            s_max = np.max(a[idx], axis=0, keepdims=True)\n",
        "            s_mean = np.mean(a[idx], axis=0, keepdims=True)\n",
        "            s_std = np.std(a[idx], axis=0, keepdims=True)\n",
        "            s_median = np.median(a[idx], axis=0, keepdims=True)\n",
        "            s_sum = np.sum(a[idx], axis=0, keepdims=True)\n",
        "\n",
        "            #s_peaks = get_number_peaks(a[idx]) # <- it gives small boost\n",
        "            #s_mfcc = get_mfcc(a[idx])\n",
        "\n",
        "        r.append(np.concatenate((s_min, s_max, s_mean, s_std, s_median, s_sum), axis=0))\n",
        "\n",
        "    return np.nan_to_num(np.concatenate(r, axis=0).transpose())"
      ]
    },
    {
      "cell_type": "code",
      "execution_count": 13,
      "id": "050c74aa",
      "metadata": {
        "execution": {
          "iopub.execute_input": "2021-09-07T20:04:27.667290Z",
          "iopub.status.busy": "2021-09-07T20:04:27.666793Z",
          "iopub.status.idle": "2021-09-07T20:04:27.670430Z",
          "shell.execute_reply": "2021-09-07T20:04:27.669984Z",
          "shell.execute_reply.started": "2021-09-07T07:51:17.617316Z"
        },
        "papermill": {
          "duration": 0.037527,
          "end_time": "2021-09-07T20:04:27.670534",
          "exception": false,
          "start_time": "2021-09-07T20:04:27.633007",
          "status": "completed"
        },
        "tags": [],
        "id": "050c74aa"
      },
      "outputs": [],
      "source": [
        "def process_optiver_ds(ds, f_dict, fe_func, skip_cols, train_flg=True):\n",
        "\n",
        "    x = []\n",
        "    y = []\n",
        "\n",
        "    for stock_id, stock_fnmame in tqdm(f_dict.items()):\n",
        "\n",
        "        optiver_ds = pd.read_parquet(stock_fnmame)\n",
        "        optiver_ds['row_id'] = str(stock_id) + '-' + optiver_ds['time_id'].astype(str)\n",
        "\n",
        "        sds = ds[ds['stock_id'] == stock_id]\n",
        "\n",
        "        cols = ['time_id', 'target']\n",
        "        if train_flg == False:\n",
        "            cols = ['time_id']\n",
        "\n",
        "        merge_ds = pd.merge(sds[cols], optiver_ds, on='time_id', how='left')\n",
        "        merge_ds = fe_func(merge_ds).fillna(0)\n",
        "\n",
        "        cols = [c for c in merge_ds.columns if c not in skip_cols]\n",
        "\n",
        "        np_ds = merge_ds[cols].to_numpy(dtype=np.float16)\n",
        "        seconds_in_bucket = merge_ds['seconds_in_bucket'].to_numpy()\n",
        "        g_idx = merge_ds[['time_id']].to_numpy()\n",
        "\n",
        "        l = np.unique(g_idx, return_index=True)[1][1:]\n",
        "        a_list = np.split(np_ds, l)\n",
        "        s_list = np.split(seconds_in_bucket, l)\n",
        "\n",
        "        stat = list(map(np_seq_stat, a_list, s_list))\n",
        "        b = np.transpose(np.dstack(stat), (2, 1, 0))\n",
        "        b = b.astype(np.float16)\n",
        "\n",
        "        r = []\n",
        "        if train_flg:\n",
        "            targets = merge_ds[['target']].to_numpy(dtype=np.float16)\n",
        "            t_list = np.split(targets, l)\n",
        "            r = [t[0][0] for t in t_list]\n",
        "\n",
        "        x.append(b)\n",
        "        y.append(r)\n",
        "        #break\n",
        "    return x, y"
      ]
    },
    {
      "cell_type": "code",
      "execution_count": 14,
      "id": "ab7c49e9",
      "metadata": {
        "execution": {
          "iopub.execute_input": "2021-09-07T20:04:27.727843Z",
          "iopub.status.busy": "2021-09-07T20:04:27.726628Z",
          "iopub.status.idle": "2021-09-07T20:04:27.728884Z",
          "shell.execute_reply": "2021-09-07T20:04:27.729323Z",
          "shell.execute_reply.started": "2021-09-07T07:51:17.634035Z"
        },
        "papermill": {
          "duration": 0.034965,
          "end_time": "2021-09-07T20:04:27.729455",
          "exception": false,
          "start_time": "2021-09-07T20:04:27.694490",
          "status": "completed"
        },
        "tags": [],
        "id": "ab7c49e9"
      },
      "outputs": [],
      "source": [
        "def chunks(data, SIZE=10000):\n",
        "    it = iter(data)\n",
        "    for i in range(0, len(data), SIZE):\n",
        "        yield {k:data[k] for k in islice(it, SIZE)}\n",
        "\n",
        "def process_book_train_chunk(chunk_ds):\n",
        "    return process_optiver_ds(train_ds, chunk_ds, book_ds_fe, book_skip_columns)\n",
        "def process_trade_train_chunk(chunk_ds):\n",
        "    return process_optiver_ds(train_ds, chunk_ds, trade_ds_fe, trade_skip_columns)\n",
        "def process_book_test_chunk(chunk_ds):\n",
        "    return process_optiver_ds(test_ds, chunk_ds, book_ds_fe, book_skip_columns, False)\n",
        "def process_trade_test_chunk(chunk_ds):\n",
        "    return process_optiver_ds(test_ds, chunk_ds, trade_ds_fe, trade_skip_columns, False)\n",
        "\n",
        "book_train_chunks = [i for i in chunks(book_train_dict, int(len(book_train_dict)/NTHREADS))]\n",
        "trade_train_chunks = [i for i in chunks(trade_train_dict, int(len(trade_train_dict)/NTHREADS))]\n",
        "\n",
        "z = 1 if len(book_test_dict) < NTHREADS else NTHREADS\n",
        "book_test_chunks = [i for i in chunks(book_test_dict, int(len(book_test_dict)/z))]\n",
        "trade_test_chunks = [i for i in chunks(trade_test_dict, int(len(trade_test_dict)/z))]"
      ]
    },
    {
      "cell_type": "code",
      "execution_count": null,
      "id": "6e8efbf1",
      "metadata": {
        "execution": {
          "iopub.execute_input": "2021-09-07T20:04:27.786446Z",
          "iopub.status.busy": "2021-09-07T20:04:27.785689Z",
          "iopub.status.idle": "2021-09-07T20:29:45.883458Z",
          "shell.execute_reply": "2021-09-07T20:29:45.883910Z",
          "shell.execute_reply.started": "2021-09-07T07:51:17.652745Z"
        },
        "papermill": {
          "duration": 1518.13047,
          "end_time": "2021-09-07T20:29:45.884061",
          "exception": false,
          "start_time": "2021-09-07T20:04:27.753591",
          "status": "completed"
        },
        "tags": [],
        "id": "6e8efbf1"
      },
      "outputs": [],
      "source": [
        "%%time\n",
        "pool = Pool(NTHREADS)\n",
        "r = pool.map(process_book_train_chunk, book_train_chunks)\n",
        "pool.close()\n",
        "\n",
        "a1, a2 = zip(*r)\n",
        "np_books = [np.concatenate(a1[i], axis=0) for i in range(len(a1))]\n",
        "np_books = np.concatenate(np_books, axis=0)\n",
        "\n",
        "targets = [np.concatenate(a2[i], axis=0) for i in range(len(a2))]\n",
        "targets = np.concatenate(targets, axis=0)"
      ]
    },
    {
      "cell_type": "code",
      "execution_count": null,
      "id": "b658cd9d",
      "metadata": {
        "execution": {
          "iopub.execute_input": "2021-09-07T20:29:45.938546Z",
          "iopub.status.busy": "2021-09-07T20:29:45.938017Z",
          "iopub.status.idle": "2021-09-07T20:40:00.804965Z",
          "shell.execute_reply": "2021-09-07T20:40:00.805663Z",
          "shell.execute_reply.started": "2021-09-07T08:24:04.661746Z"
        },
        "papermill": {
          "duration": 614.89725,
          "end_time": "2021-09-07T20:40:00.805877",
          "exception": false,
          "start_time": "2021-09-07T20:29:45.908627",
          "status": "completed"
        },
        "tags": [],
        "id": "b658cd9d"
      },
      "outputs": [],
      "source": [
        "%%time\n",
        "pool = Pool(NTHREADS)\n",
        "r = pool.map(process_trade_train_chunk, trade_train_chunks)\n",
        "pool.close()\n",
        "\n",
        "a1, _ = zip(*r)\n",
        "np_trades = [np.concatenate(a1[i], axis=0) for i in range(len(a1))]\n",
        "np_trades = np.concatenate(np_trades, axis=0)"
      ]
    },
    {
      "cell_type": "code",
      "execution_count": null,
      "id": "d86d8534",
      "metadata": {
        "execution": {
          "iopub.execute_input": "2021-09-07T20:40:00.901179Z",
          "iopub.status.busy": "2021-09-07T20:40:00.900427Z",
          "iopub.status.idle": "2021-09-07T20:40:01.334374Z",
          "shell.execute_reply": "2021-09-07T20:40:01.333725Z",
          "shell.execute_reply.started": "2021-09-07T08:45:05.581589Z"
        },
        "papermill": {
          "duration": 0.487615,
          "end_time": "2021-09-07T20:40:01.334555",
          "exception": false,
          "start_time": "2021-09-07T20:40:00.846940",
          "status": "completed"
        },
        "tags": [],
        "id": "d86d8534"
      },
      "outputs": [],
      "source": [
        "print(np_books.shape, np_trades.shape, targets.shape)\n",
        "np_train = np.concatenate((np_books, np_trades), axis=2)\n",
        "print(np_train.shape, targets.shape)"
      ]
    },
    {
      "cell_type": "code",
      "execution_count": null,
      "id": "fdcf531c",
      "metadata": {
        "execution": {
          "iopub.execute_input": "2021-09-07T20:40:01.390643Z",
          "iopub.status.busy": "2021-09-07T20:40:01.389821Z",
          "iopub.status.idle": "2021-09-07T20:40:01.399558Z",
          "shell.execute_reply": "2021-09-07T20:40:01.399115Z",
          "shell.execute_reply.started": "2021-09-07T08:45:06.515161Z"
        },
        "papermill": {
          "duration": 0.039349,
          "end_time": "2021-09-07T20:40:01.399665",
          "exception": false,
          "start_time": "2021-09-07T20:40:01.360316",
          "status": "completed"
        },
        "tags": [],
        "id": "fdcf531c"
      },
      "outputs": [],
      "source": [
        "idx = np.arange(np_train.shape[0])\n",
        "train_idx, valid_idx = train_test_split(idx, shuffle=False, test_size=0.1, random_state=SEED)"
      ]
    },
    {
      "cell_type": "code",
      "execution_count": null,
      "id": "b4230f10",
      "metadata": {
        "execution": {
          "iopub.execute_input": "2021-09-07T20:40:01.479535Z",
          "iopub.status.busy": "2021-09-07T20:40:01.478744Z",
          "iopub.status.idle": "2021-09-07T20:41:15.364327Z",
          "shell.execute_reply": "2021-09-07T20:41:15.363355Z",
          "shell.execute_reply.started": "2021-09-07T08:45:36.399918Z"
        },
        "papermill": {
          "duration": 73.93925,
          "end_time": "2021-09-07T20:41:15.364466",
          "exception": false,
          "start_time": "2021-09-07T20:40:01.425216",
          "status": "completed"
        },
        "tags": [],
        "id": "b4230f10"
      },
      "outputs": [],
      "source": [
        "# Scaler\n",
        "transformers = []\n",
        "for i in tqdm(range(np_train.shape[1])):\n",
        "    a = np.nan_to_num(np_train[train_idx, i, :])\n",
        "    b = np.nan_to_num(np_train[valid_idx, i, :])\n",
        "\n",
        "    transformer = StandardScaler() # StandardScaler is very useful!\n",
        "    np_train[train_idx, i, :] = transformer.fit_transform(a)\n",
        "    np_train[valid_idx, i, :] = transformer.transform(b)\n",
        "    transformers.append(transformer) # Save Scalers for the inference stage"
      ]
    },
    {
      "cell_type": "code",
      "execution_count": null,
      "id": "0e5f8504",
      "metadata": {
        "execution": {
          "iopub.execute_input": "2021-09-07T20:41:15.420980Z",
          "iopub.status.busy": "2021-09-07T20:41:15.419999Z",
          "iopub.status.idle": "2021-09-07T20:41:22.112167Z",
          "shell.execute_reply": "2021-09-07T20:41:22.111678Z",
          "shell.execute_reply.started": "2021-09-07T08:47:04.233854Z"
        },
        "papermill": {
          "duration": 6.721499,
          "end_time": "2021-09-07T20:41:22.112340",
          "exception": false,
          "start_time": "2021-09-07T20:41:15.390841",
          "status": "completed"
        },
        "tags": [],
        "id": "0e5f8504"
      },
      "outputs": [],
      "source": [
        "np_train = np.nan_to_num(np_train)"
      ]
    },
    {
      "cell_type": "code",
      "execution_count": null,
      "id": "b356cc5a",
      "metadata": {
        "execution": {
          "iopub.execute_input": "2021-09-07T20:41:22.170751Z",
          "iopub.status.busy": "2021-09-07T20:41:22.169185Z",
          "iopub.status.idle": "2021-09-07T20:41:22.171602Z",
          "shell.execute_reply": "2021-09-07T20:41:22.172049Z",
          "shell.execute_reply.started": "2021-09-07T08:47:14.445903Z"
        },
        "papermill": {
          "duration": 0.033109,
          "end_time": "2021-09-07T20:41:22.172173",
          "exception": false,
          "start_time": "2021-09-07T20:41:22.139064",
          "status": "completed"
        },
        "tags": [],
        "id": "b356cc5a"
      },
      "outputs": [],
      "source": [
        "# Loss function\n",
        "def rmspe(y_true, y_pred):\n",
        "    return K.sqrt(K.mean(K.square((y_true - y_pred) / y_true)))"
      ]
    },
    {
      "cell_type": "code",
      "execution_count": null,
      "id": "8e22cfbd",
      "metadata": {
        "execution": {
          "iopub.execute_input": "2021-09-07T20:41:22.234699Z",
          "iopub.status.busy": "2021-09-07T20:41:22.233452Z",
          "iopub.status.idle": "2021-09-07T20:41:22.235817Z",
          "shell.execute_reply": "2021-09-07T20:41:22.236243Z",
          "shell.execute_reply.started": "2021-09-07T08:47:18.362167Z"
        },
        "papermill": {
          "duration": 0.037871,
          "end_time": "2021-09-07T20:41:22.236358",
          "exception": false,
          "start_time": "2021-09-07T20:41:22.198487",
          "status": "completed"
        },
        "tags": [],
        "id": "8e22cfbd"
      },
      "outputs": [],
      "source": [
        "# https://github.com/philipperemy/keras-attention-mechanism\n",
        "class Attention(Layer):\n",
        "\n",
        "    def __init__(self, units=128, **kwargs):\n",
        "        self.units = units\n",
        "        super().__init__(**kwargs)\n",
        "\n",
        "    def __call__(self, inputs):\n",
        "        \"\"\"\n",
        "        Many-to-one attention mechanism for Keras.\n",
        "        @param inputs: 3D tensor with shape (batch_size, time_steps, input_dim).\n",
        "        @return: 2D tensor with shape (batch_size, 128)\n",
        "        @author: felixhao28, philipperemy.\n",
        "        \"\"\"\n",
        "        hidden_states = inputs\n",
        "        hidden_size = int(hidden_states.shape[2])\n",
        "        # Inside dense layer\n",
        "        #              hidden_states            dot               W            =>           score_first_part\n",
        "        # (batch_size, time_steps, hidden_size) dot (hidden_size, hidden_size) => (batch_size, time_steps, hidden_size)\n",
        "        # W is the trainable weight matrix of attention Luong's multiplicative style score\n",
        "        score_first_part = Dense(hidden_size, use_bias=False, name='attention_score_vec')(hidden_states)\n",
        "        #            score_first_part           dot        last_hidden_state     => attention_weights\n",
        "        # (batch_size, time_steps, hidden_size) dot   (batch_size, hidden_size)  => (batch_size, time_steps)\n",
        "        h_t = Lambda(lambda x: x[:, -1, :], output_shape=(hidden_size,), name='last_hidden_state')(hidden_states)\n",
        "        score = Dot(axes=[1, 2], name='attention_score')([h_t, score_first_part])\n",
        "        attention_weights = Activation('softmax', name='attention_weight')(score)\n",
        "        # (batch_size, time_steps, hidden_size) dot (batch_size, time_steps) => (batch_size, hidden_size)\n",
        "        context_vector = Dot(axes=[1, 1], name='context_vector')([hidden_states, attention_weights])\n",
        "        pre_activation = Concatenate(name='attention_output')([context_vector, h_t])\n",
        "        attention_vector = Dense(self.units, use_bias=False, activation='tanh', name='attention_vector')(pre_activation)\n",
        "        return attention_vector\n",
        "\n",
        "    def get_config(self):\n",
        "        return {'units': self.units}\n",
        "\n",
        "    @classmethod\n",
        "    def from_config(cls, config):\n",
        "        return cls(**config)"
      ]
    },
    {
      "cell_type": "code",
      "execution_count": null,
      "id": "7ff6bbae",
      "metadata": {
        "execution": {
          "iopub.execute_input": "2021-09-07T20:41:22.297290Z",
          "iopub.status.busy": "2021-09-07T20:41:22.296050Z",
          "iopub.status.idle": "2021-09-07T20:41:22.298376Z",
          "shell.execute_reply": "2021-09-07T20:41:22.298793Z",
          "shell.execute_reply.started": "2021-09-07T08:47:19.031009Z"
        },
        "papermill": {
          "duration": 0.036891,
          "end_time": "2021-09-07T20:41:22.298913",
          "exception": false,
          "start_time": "2021-09-07T20:41:22.262022",
          "status": "completed"
        },
        "tags": [],
        "id": "7ff6bbae"
      },
      "outputs": [],
      "source": [
        "class DataGenerator(tf.keras.utils.Sequence):\n",
        "    'Generates data for Keras'\n",
        "    def __init__(self, ds, targets, batch_size, shape=(32,32,32), shuffle=True):\n",
        "        'Initialization'\n",
        "        self.batch_size = batch_size\n",
        "        self.targets = targets\n",
        "        self.shape = shape\n",
        "        self.ds = ds\n",
        "        self.ids = np.arange(ds.shape[0])\n",
        "        self.shuffle = shuffle\n",
        "        self.on_epoch_end()\n",
        "\n",
        "    def __len__(self):\n",
        "        'Denotes the number of batches per epoch'\n",
        "        return int(np.floor(len(self.ids) / self.batch_size))\n",
        "\n",
        "    def __getitem__(self, index):\n",
        "\n",
        "        'Generate one batch of data'\n",
        "        # Generate indexes of the batch\n",
        "        indexes = self.ids[index*self.batch_size:(index+1)*self.batch_size]\n",
        "\n",
        "        # Find list of IDs\n",
        "        ids_temp = [self.ids[k] for k in indexes]\n",
        "\n",
        "\n",
        "        x = self.ds[ids_temp, :, :]\n",
        "        y = self.targets[ids_temp]\n",
        "\n",
        "        return x, y\n",
        "\n",
        "    def on_epoch_end(self):\n",
        "        'Updates indexes after each epoch'\n",
        "        self.ids = np.arange(self.ds.shape[0])\n",
        "        if self.shuffle == True:\n",
        "            np.random.shuffle(self.ids)"
      ]
    },
    {
      "cell_type": "code",
      "execution_count": null,
      "id": "762490a3",
      "metadata": {
        "execution": {
          "iopub.execute_input": "2021-09-07T20:41:22.355301Z",
          "iopub.status.busy": "2021-09-07T20:41:22.354824Z",
          "iopub.status.idle": "2021-09-07T20:41:22.358564Z",
          "shell.execute_reply": "2021-09-07T20:41:22.358074Z",
          "shell.execute_reply.started": "2021-09-07T08:47:19.668674Z"
        },
        "papermill": {
          "duration": 0.03437,
          "end_time": "2021-09-07T20:41:22.358679",
          "exception": false,
          "start_time": "2021-09-07T20:41:22.324309",
          "status": "completed"
        },
        "tags": [],
        "id": "762490a3"
      },
      "outputs": [],
      "source": [
        "def get_model_v1():\n",
        "    model = tf.keras.models.Sequential()\n",
        "    model.add(tf.keras.layers.LSTM(50, input_shape=(np_train.shape[1], np_train.shape[2]), return_sequences=True))\n",
        "    model.add(tf.keras.layers.LSTM(50, input_shape=(np_train.shape[1], np_train.shape[2]), return_sequences=True))\n",
        "    model.add(Attention(256)) # the gain is small, but ...\n",
        "    model.add(tf.keras.layers.Dense(1))\n",
        "\n",
        "    model.compile(loss=rmspe, optimizer='adam')\n",
        "    model.summary()\n",
        "    return model"
      ]
    },
    {
      "cell_type": "code",
      "execution_count": null,
      "id": "6ea83809",
      "metadata": {
        "execution": {
          "iopub.execute_input": "2021-09-07T20:41:22.416952Z",
          "iopub.status.busy": "2021-09-07T20:41:22.415939Z",
          "iopub.status.idle": "2021-09-07T20:54:46.641710Z",
          "shell.execute_reply": "2021-09-07T20:54:46.642283Z",
          "shell.execute_reply.started": "2021-09-07T08:47:22.177202Z"
        },
        "papermill": {
          "duration": 804.257893,
          "end_time": "2021-09-07T20:54:46.642488",
          "exception": false,
          "start_time": "2021-09-07T20:41:22.384595",
          "status": "completed"
        },
        "tags": [],
        "id": "6ea83809"
      },
      "outputs": [],
      "source": [
        "training_generator = DataGenerator(np_train[train_idx, :, :], targets[train_idx], batch_size=TRAIN_BATCH_SIZE)\n",
        "validation_generator = DataGenerator(np_train[valid_idx, :, :], targets[valid_idx], batch_size=TRAIN_BATCH_SIZE)\n",
        "\n",
        "model = get_model_v1()\n",
        "\n",
        "checkpoint_filepath = CHECKPOINT + '.weights.h5'\n",
        "model_checkpoint_callback = tf.keras.callbacks.ModelCheckpoint(\n",
        "    filepath=checkpoint_filepath,\n",
        "    save_weights_only=True,\n",
        "    monitor='val_loss',\n",
        "    mode='min',\n",
        "    save_best_only=True)\n",
        "\n",
        "model_earlystopping_callback = tf.keras.callbacks.EarlyStopping(monitor='val_loss', patience=20)\n",
        "\n",
        "NEPOCHS = 50\n",
        "history = model.fit(x=training_generator,\n",
        "                              callbacks=[model_checkpoint_callback, model_earlystopping_callback],\n",
        "                              epochs=NEPOCHS,\n",
        "                              validation_data=validation_generator,\n",
        "                              # use_multiprocessing=False,\n",
        "                              # workers=NTHREADS\n",
        ")"
      ]
    },
    {
      "cell_type": "code",
      "execution_count": null,
      "id": "c2053a62",
      "metadata": {
        "execution": {
          "iopub.execute_input": "2021-09-07T20:54:54.282297Z",
          "iopub.status.busy": "2021-09-07T20:54:54.281470Z",
          "iopub.status.idle": "2021-09-07T20:54:54.432556Z",
          "shell.execute_reply": "2021-09-07T20:54:54.432957Z"
        },
        "papermill": {
          "duration": 3.735897,
          "end_time": "2021-09-07T20:54:54.433107",
          "exception": false,
          "start_time": "2021-09-07T20:54:50.697210",
          "status": "completed"
        },
        "tags": [],
        "id": "c2053a62"
      },
      "outputs": [],
      "source": [
        "import matplotlib.pyplot as plt\n",
        "\n",
        "plt.plot(history.history['loss'])\n",
        "plt.plot(history.history['val_loss'])\n",
        "plt.title('model loss')\n",
        "plt.ylabel('loss')\n",
        "plt.xlabel('epoch')\n",
        "plt.legend(['train', 'test'], loc='upper left')\n",
        "plt.show()"
      ]
    },
    {
      "cell_type": "code",
      "execution_count": null,
      "id": "a8de0e49",
      "metadata": {
        "execution": {
          "iopub.execute_input": "2021-09-07T20:55:01.791141Z",
          "iopub.status.busy": "2021-09-07T20:55:01.789428Z",
          "iopub.status.idle": "2021-09-07T20:55:01.793825Z",
          "shell.execute_reply": "2021-09-07T20:55:01.793210Z"
        },
        "papermill": {
          "duration": 3.548101,
          "end_time": "2021-09-07T20:55:01.793977",
          "exception": false,
          "start_time": "2021-09-07T20:54:58.245876",
          "status": "completed"
        },
        "tags": [],
        "id": "a8de0e49"
      },
      "outputs": [],
      "source": [
        "a = np.min(history.history['val_loss'])\n",
        "print(f'The best val_loss is {a:.4f}')"
      ]
    },
    {
      "cell_type": "code",
      "execution_count": null,
      "id": "eb6ccac9",
      "metadata": {
        "execution": {
          "iopub.execute_input": "2021-09-07T20:55:09.604900Z",
          "iopub.status.busy": "2021-09-07T20:55:09.603965Z",
          "iopub.status.idle": "2021-09-07T20:55:09.607363Z",
          "shell.execute_reply": "2021-09-07T20:55:09.606922Z"
        },
        "papermill": {
          "duration": 4.184996,
          "end_time": "2021-09-07T20:55:09.607574",
          "exception": false,
          "start_time": "2021-09-07T20:55:05.422578",
          "status": "completed"
        },
        "tags": [],
        "id": "eb6ccac9"
      },
      "outputs": [],
      "source": [
        "del np_train, np_books, np_trades\n",
        "z = gc.collect()"
      ]
    },
    {
      "cell_type": "code",
      "execution_count": null,
      "id": "62f9d4e1",
      "metadata": {
        "execution": {
          "iopub.execute_input": "2021-09-07T20:55:16.790675Z",
          "iopub.status.busy": "2021-09-07T20:55:16.789854Z",
          "iopub.status.idle": "2021-09-07T20:55:17.303661Z",
          "shell.execute_reply": "2021-09-07T20:55:17.304493Z"
        },
        "papermill": {
          "duration": 4.080422,
          "end_time": "2021-09-07T20:55:17.304715",
          "exception": false,
          "start_time": "2021-09-07T20:55:13.224293",
          "status": "completed"
        },
        "tags": [],
        "id": "62f9d4e1"
      },
      "outputs": [],
      "source": [
        "%%time\n",
        "pool = Pool(NTHREADS)\n",
        "r = pool.map(process_book_test_chunk, book_test_chunks)\n",
        "pool.close()\n",
        "\n",
        "a1, _ = zip(*r)\n",
        "np_books = [np.concatenate(a1[i], axis=0) for i in range(len(a1))]\n",
        "np_books = np.concatenate(np_books, axis=0)"
      ]
    },
    {
      "cell_type": "code",
      "execution_count": null,
      "id": "25ad6053",
      "metadata": {
        "execution": {
          "iopub.execute_input": "2021-09-07T20:55:25.007596Z",
          "iopub.status.busy": "2021-09-07T20:55:25.006776Z",
          "iopub.status.idle": "2021-09-07T20:55:25.234305Z",
          "shell.execute_reply": "2021-09-07T20:55:25.233880Z"
        },
        "papermill": {
          "duration": 4.227475,
          "end_time": "2021-09-07T20:55:25.234457",
          "exception": false,
          "start_time": "2021-09-07T20:55:21.006982",
          "status": "completed"
        },
        "tags": [],
        "id": "25ad6053"
      },
      "outputs": [],
      "source": [
        "%%time\n",
        "pool = Pool(NTHREADS)\n",
        "r = pool.map(process_trade_test_chunk, trade_test_chunks)\n",
        "pool.close()\n",
        "\n",
        "a1, _ = zip(*r)\n",
        "np_trades = [np.concatenate(a1[i], axis=0) for i in range(len(a1))]\n",
        "np_trades = np.concatenate(np_trades, axis=0)"
      ]
    },
    {
      "cell_type": "code",
      "execution_count": null,
      "id": "9af74dad",
      "metadata": {
        "execution": {
          "iopub.execute_input": "2021-09-07T20:55:32.673685Z",
          "iopub.status.busy": "2021-09-07T20:55:32.673030Z",
          "iopub.status.idle": "2021-09-07T20:55:32.676298Z",
          "shell.execute_reply": "2021-09-07T20:55:32.676890Z"
        },
        "papermill": {
          "duration": 3.562174,
          "end_time": "2021-09-07T20:55:32.677075",
          "exception": false,
          "start_time": "2021-09-07T20:55:29.114901",
          "status": "completed"
        },
        "tags": [],
        "id": "9af74dad"
      },
      "outputs": [],
      "source": [
        "print(np_books.shape, np_trades.shape)\n",
        "np_test = np.concatenate((np_books, np_trades), axis=2)\n",
        "print(np_test.shape)"
      ]
    },
    {
      "cell_type": "code",
      "execution_count": null,
      "id": "11ad00a2",
      "metadata": {
        "execution": {
          "iopub.execute_input": "2021-09-07T20:55:40.088341Z",
          "iopub.status.busy": "2021-09-07T20:55:40.087374Z",
          "iopub.status.idle": "2021-09-07T20:55:40.104995Z",
          "shell.execute_reply": "2021-09-07T20:55:40.105401Z"
        },
        "papermill": {
          "duration": 3.833352,
          "end_time": "2021-09-07T20:55:40.105546",
          "exception": false,
          "start_time": "2021-09-07T20:55:36.272194",
          "status": "completed"
        },
        "tags": [],
        "id": "11ad00a2"
      },
      "outputs": [],
      "source": [
        "# Scaler\n",
        "for i in tqdm(range(np_test.shape[1])):\n",
        "    transformer = transformers[i]\n",
        "    np_test[:, i, :] = transformer.transform(np.nan_to_num(np_test[:, i, :]))"
      ]
    },
    {
      "cell_type": "code",
      "execution_count": null,
      "id": "0ecd1633",
      "metadata": {
        "execution": {
          "iopub.execute_input": "2021-09-07T20:55:47.227498Z",
          "iopub.status.busy": "2021-09-07T20:55:47.226788Z",
          "iopub.status.idle": "2021-09-07T20:55:47.229773Z",
          "shell.execute_reply": "2021-09-07T20:55:47.229347Z"
        },
        "papermill": {
          "duration": 3.556453,
          "end_time": "2021-09-07T20:55:47.229887",
          "exception": false,
          "start_time": "2021-09-07T20:55:43.673434",
          "status": "completed"
        },
        "tags": [],
        "id": "0ecd1633"
      },
      "outputs": [],
      "source": [
        "np_test = np.nan_to_num(np_test)"
      ]
    },
    {
      "cell_type": "code",
      "execution_count": null,
      "id": "0c8deb88",
      "metadata": {
        "execution": {
          "iopub.execute_input": "2021-09-07T20:55:54.599499Z",
          "iopub.status.busy": "2021-09-07T20:55:54.598910Z",
          "iopub.status.idle": "2021-09-07T20:55:55.513824Z",
          "shell.execute_reply": "2021-09-07T20:55:55.514293Z"
        },
        "papermill": {
          "duration": 4.479123,
          "end_time": "2021-09-07T20:55:55.514494",
          "exception": false,
          "start_time": "2021-09-07T20:55:51.035371",
          "status": "completed"
        },
        "tags": [],
        "id": "0c8deb88"
      },
      "outputs": [],
      "source": [
        "model.load_weights(checkpoint_filepath)\n",
        "res = model.predict(np_test, batch_size=TEST_BATCH_SIZE)\n",
        "res = np.clip(res, 0, 1)"
      ]
    },
    {
      "cell_type": "code",
      "execution_count": null,
      "id": "43aab92c",
      "metadata": {
        "execution": {
          "iopub.execute_input": "2021-09-07T20:56:02.979419Z",
          "iopub.status.busy": "2021-09-07T20:56:02.978684Z",
          "iopub.status.idle": "2021-09-07T20:56:02.981407Z",
          "shell.execute_reply": "2021-09-07T20:56:02.981821Z"
        },
        "papermill": {
          "duration": 3.791446,
          "end_time": "2021-09-07T20:56:02.981953",
          "exception": false,
          "start_time": "2021-09-07T20:55:59.190507",
          "status": "completed"
        },
        "tags": [],
        "id": "43aab92c"
      },
      "outputs": [],
      "source": [
        "res[:3]"
      ]
    },
    {
      "cell_type": "code",
      "execution_count": null,
      "id": "5fbaa5fe",
      "metadata": {
        "execution": {
          "iopub.execute_input": "2021-09-07T20:56:10.245479Z",
          "iopub.status.busy": "2021-09-07T20:56:10.243803Z",
          "iopub.status.idle": "2021-09-07T20:56:10.246580Z",
          "shell.execute_reply": "2021-09-07T20:56:10.247022Z"
        },
        "papermill": {
          "duration": 3.661425,
          "end_time": "2021-09-07T20:56:10.247186",
          "exception": false,
          "start_time": "2021-09-07T20:56:06.585761",
          "status": "completed"
        },
        "tags": [],
        "id": "5fbaa5fe"
      },
      "outputs": [],
      "source": [
        "import shutil\n",
        "shutil.rmtree('./model_checkpoint')"
      ]
    },
    {
      "cell_type": "code",
      "execution_count": null,
      "id": "81fbaea3",
      "metadata": {
        "execution": {
          "iopub.execute_input": "2021-09-07T20:56:17.643670Z",
          "iopub.status.busy": "2021-09-07T20:56:17.643021Z",
          "iopub.status.idle": "2021-09-07T20:56:17.649069Z",
          "shell.execute_reply": "2021-09-07T20:56:17.648643Z"
        },
        "papermill": {
          "duration": 3.558541,
          "end_time": "2021-09-07T20:56:17.649267",
          "exception": false,
          "start_time": "2021-09-07T20:56:14.090726",
          "status": "completed"
        },
        "tags": [],
        "id": "81fbaea3"
      },
      "outputs": [],
      "source": [
        "submission_ds = pd.DataFrame()\n",
        "submission_ds['row_id'] = test_ds['row_id']\n",
        "submission_ds['target'] = res\n",
        "submission_ds.to_csv('submission.csv', index=False)"
      ]
    },
    {
      "cell_type": "code",
      "execution_count": null,
      "id": "9a6767e3",
      "metadata": {
        "execution": {
          "iopub.execute_input": "2021-09-07T20:56:25.023948Z",
          "iopub.status.busy": "2021-09-07T20:56:25.023271Z",
          "iopub.status.idle": "2021-09-07T20:56:25.035202Z",
          "shell.execute_reply": "2021-09-07T20:56:25.035706Z"
        },
        "papermill": {
          "duration": 3.821049,
          "end_time": "2021-09-07T20:56:25.035901",
          "exception": false,
          "start_time": "2021-09-07T20:56:21.214852",
          "status": "completed"
        },
        "tags": [],
        "id": "9a6767e3"
      },
      "outputs": [],
      "source": [
        "submission_ds[:3]"
      ]
    },
    {
      "cell_type": "code",
      "execution_count": null,
      "id": "d0897b79",
      "metadata": {
        "papermill": {
          "duration": 3.53172,
          "end_time": "2021-09-07T20:56:32.642476",
          "exception": false,
          "start_time": "2021-09-07T20:56:29.110756",
          "status": "completed"
        },
        "tags": [],
        "id": "d0897b79"
      },
      "outputs": [],
      "source": []
    }
  ],
  "metadata": {
    "kernelspec": {
      "display_name": "Python 3",
      "language": "python",
      "name": "python3"
    },
    "language_info": {
      "codemirror_mode": {
        "name": "ipython",
        "version": 3
      },
      "file_extension": ".py",
      "mimetype": "text/x-python",
      "name": "python",
      "nbconvert_exporter": "python",
      "pygments_lexer": "ipython3",
      "version": "3.7.10"
    },
    "papermill": {
      "default_parameters": {},
      "duration": 3151.012753,
      "end_time": "2021-09-07T20:56:39.467463",
      "environment_variables": {},
      "exception": null,
      "input_path": "__notebook__.ipynb",
      "output_path": "__notebook__.ipynb",
      "parameters": {},
      "start_time": "2021-09-07T20:04:08.454710",
      "version": "2.3.3"
    },
    "widgets": {
      "application/vnd.jupyter.widget-state+json": {
        "bdd7d5c9c9ec4f429a9e3af38b468bfd": {
          "model_module": "@jupyter-widgets/controls",
          "model_name": "HBoxModel",
          "model_module_version": "1.5.0",
          "state": {
            "_dom_classes": [],
            "_model_module": "@jupyter-widgets/controls",
            "_model_module_version": "1.5.0",
            "_model_name": "HBoxModel",
            "_view_count": null,
            "_view_module": "@jupyter-widgets/controls",
            "_view_module_version": "1.5.0",
            "_view_name": "HBoxView",
            "box_style": "",
            "children": [
              "IPY_MODEL_031e2020587b4d65b38119864e6a2c10",
              "IPY_MODEL_5b673aeb9a8447879fb88bf113994591",
              "IPY_MODEL_698f917e18984fb88de816982fb39e9c"
            ],
            "layout": "IPY_MODEL_d56781ce35264f41b251f812675465d5"
          }
        },
        "031e2020587b4d65b38119864e6a2c10": {
          "model_module": "@jupyter-widgets/controls",
          "model_name": "HTMLModel",
          "model_module_version": "1.5.0",
          "state": {
            "_dom_classes": [],
            "_model_module": "@jupyter-widgets/controls",
            "_model_module_version": "1.5.0",
            "_model_name": "HTMLModel",
            "_view_count": null,
            "_view_module": "@jupyter-widgets/controls",
            "_view_module_version": "1.5.0",
            "_view_name": "HTMLView",
            "description": "",
            "description_tooltip": null,
            "layout": "IPY_MODEL_94297d42094440cf8752404796806f06",
            "placeholder": "​",
            "style": "IPY_MODEL_0ef622ab0edd47af8156329df6053457",
            "value": "100%"
          }
        },
        "5b673aeb9a8447879fb88bf113994591": {
          "model_module": "@jupyter-widgets/controls",
          "model_name": "FloatProgressModel",
          "model_module_version": "1.5.0",
          "state": {
            "_dom_classes": [],
            "_model_module": "@jupyter-widgets/controls",
            "_model_module_version": "1.5.0",
            "_model_name": "FloatProgressModel",
            "_view_count": null,
            "_view_module": "@jupyter-widgets/controls",
            "_view_module_version": "1.5.0",
            "_view_name": "ProgressView",
            "bar_style": "success",
            "description": "",
            "description_tooltip": null,
            "layout": "IPY_MODEL_315cfbcbbe1f473d9c12905a7261653e",
            "max": 112,
            "min": 0,
            "orientation": "horizontal",
            "style": "IPY_MODEL_35aae24c09474d4aadf9071a504222b4",
            "value": 112
          }
        },
        "698f917e18984fb88de816982fb39e9c": {
          "model_module": "@jupyter-widgets/controls",
          "model_name": "HTMLModel",
          "model_module_version": "1.5.0",
          "state": {
            "_dom_classes": [],
            "_model_module": "@jupyter-widgets/controls",
            "_model_module_version": "1.5.0",
            "_model_name": "HTMLModel",
            "_view_count": null,
            "_view_module": "@jupyter-widgets/controls",
            "_view_module_version": "1.5.0",
            "_view_name": "HTMLView",
            "description": "",
            "description_tooltip": null,
            "layout": "IPY_MODEL_14a1e4afcae447cba89f8f79d3c9cfb2",
            "placeholder": "​",
            "style": "IPY_MODEL_94484b7089654bdcaf00f7c18442e088",
            "value": " 112/112 [00:00&lt;00:00, 675.13it/s]"
          }
        },
        "d56781ce35264f41b251f812675465d5": {
          "model_module": "@jupyter-widgets/base",
          "model_name": "LayoutModel",
          "model_module_version": "1.2.0",
          "state": {
            "_model_module": "@jupyter-widgets/base",
            "_model_module_version": "1.2.0",
            "_model_name": "LayoutModel",
            "_view_count": null,
            "_view_module": "@jupyter-widgets/base",
            "_view_module_version": "1.2.0",
            "_view_name": "LayoutView",
            "align_content": null,
            "align_items": null,
            "align_self": null,
            "border": null,
            "bottom": null,
            "display": null,
            "flex": null,
            "flex_flow": null,
            "grid_area": null,
            "grid_auto_columns": null,
            "grid_auto_flow": null,
            "grid_auto_rows": null,
            "grid_column": null,
            "grid_gap": null,
            "grid_row": null,
            "grid_template_areas": null,
            "grid_template_columns": null,
            "grid_template_rows": null,
            "height": null,
            "justify_content": null,
            "justify_items": null,
            "left": null,
            "margin": null,
            "max_height": null,
            "max_width": null,
            "min_height": null,
            "min_width": null,
            "object_fit": null,
            "object_position": null,
            "order": null,
            "overflow": null,
            "overflow_x": null,
            "overflow_y": null,
            "padding": null,
            "right": null,
            "top": null,
            "visibility": null,
            "width": null
          }
        },
        "94297d42094440cf8752404796806f06": {
          "model_module": "@jupyter-widgets/base",
          "model_name": "LayoutModel",
          "model_module_version": "1.2.0",
          "state": {
            "_model_module": "@jupyter-widgets/base",
            "_model_module_version": "1.2.0",
            "_model_name": "LayoutModel",
            "_view_count": null,
            "_view_module": "@jupyter-widgets/base",
            "_view_module_version": "1.2.0",
            "_view_name": "LayoutView",
            "align_content": null,
            "align_items": null,
            "align_self": null,
            "border": null,
            "bottom": null,
            "display": null,
            "flex": null,
            "flex_flow": null,
            "grid_area": null,
            "grid_auto_columns": null,
            "grid_auto_flow": null,
            "grid_auto_rows": null,
            "grid_column": null,
            "grid_gap": null,
            "grid_row": null,
            "grid_template_areas": null,
            "grid_template_columns": null,
            "grid_template_rows": null,
            "height": null,
            "justify_content": null,
            "justify_items": null,
            "left": null,
            "margin": null,
            "max_height": null,
            "max_width": null,
            "min_height": null,
            "min_width": null,
            "object_fit": null,
            "object_position": null,
            "order": null,
            "overflow": null,
            "overflow_x": null,
            "overflow_y": null,
            "padding": null,
            "right": null,
            "top": null,
            "visibility": null,
            "width": null
          }
        },
        "0ef622ab0edd47af8156329df6053457": {
          "model_module": "@jupyter-widgets/controls",
          "model_name": "DescriptionStyleModel",
          "model_module_version": "1.5.0",
          "state": {
            "_model_module": "@jupyter-widgets/controls",
            "_model_module_version": "1.5.0",
            "_model_name": "DescriptionStyleModel",
            "_view_count": null,
            "_view_module": "@jupyter-widgets/base",
            "_view_module_version": "1.2.0",
            "_view_name": "StyleView",
            "description_width": ""
          }
        },
        "315cfbcbbe1f473d9c12905a7261653e": {
          "model_module": "@jupyter-widgets/base",
          "model_name": "LayoutModel",
          "model_module_version": "1.2.0",
          "state": {
            "_model_module": "@jupyter-widgets/base",
            "_model_module_version": "1.2.0",
            "_model_name": "LayoutModel",
            "_view_count": null,
            "_view_module": "@jupyter-widgets/base",
            "_view_module_version": "1.2.0",
            "_view_name": "LayoutView",
            "align_content": null,
            "align_items": null,
            "align_self": null,
            "border": null,
            "bottom": null,
            "display": null,
            "flex": null,
            "flex_flow": null,
            "grid_area": null,
            "grid_auto_columns": null,
            "grid_auto_flow": null,
            "grid_auto_rows": null,
            "grid_column": null,
            "grid_gap": null,
            "grid_row": null,
            "grid_template_areas": null,
            "grid_template_columns": null,
            "grid_template_rows": null,
            "height": null,
            "justify_content": null,
            "justify_items": null,
            "left": null,
            "margin": null,
            "max_height": null,
            "max_width": null,
            "min_height": null,
            "min_width": null,
            "object_fit": null,
            "object_position": null,
            "order": null,
            "overflow": null,
            "overflow_x": null,
            "overflow_y": null,
            "padding": null,
            "right": null,
            "top": null,
            "visibility": null,
            "width": null
          }
        },
        "35aae24c09474d4aadf9071a504222b4": {
          "model_module": "@jupyter-widgets/controls",
          "model_name": "ProgressStyleModel",
          "model_module_version": "1.5.0",
          "state": {
            "_model_module": "@jupyter-widgets/controls",
            "_model_module_version": "1.5.0",
            "_model_name": "ProgressStyleModel",
            "_view_count": null,
            "_view_module": "@jupyter-widgets/base",
            "_view_module_version": "1.2.0",
            "_view_name": "StyleView",
            "bar_color": null,
            "description_width": ""
          }
        },
        "14a1e4afcae447cba89f8f79d3c9cfb2": {
          "model_module": "@jupyter-widgets/base",
          "model_name": "LayoutModel",
          "model_module_version": "1.2.0",
          "state": {
            "_model_module": "@jupyter-widgets/base",
            "_model_module_version": "1.2.0",
            "_model_name": "LayoutModel",
            "_view_count": null,
            "_view_module": "@jupyter-widgets/base",
            "_view_module_version": "1.2.0",
            "_view_name": "LayoutView",
            "align_content": null,
            "align_items": null,
            "align_self": null,
            "border": null,
            "bottom": null,
            "display": null,
            "flex": null,
            "flex_flow": null,
            "grid_area": null,
            "grid_auto_columns": null,
            "grid_auto_flow": null,
            "grid_auto_rows": null,
            "grid_column": null,
            "grid_gap": null,
            "grid_row": null,
            "grid_template_areas": null,
            "grid_template_columns": null,
            "grid_template_rows": null,
            "height": null,
            "justify_content": null,
            "justify_items": null,
            "left": null,
            "margin": null,
            "max_height": null,
            "max_width": null,
            "min_height": null,
            "min_width": null,
            "object_fit": null,
            "object_position": null,
            "order": null,
            "overflow": null,
            "overflow_x": null,
            "overflow_y": null,
            "padding": null,
            "right": null,
            "top": null,
            "visibility": null,
            "width": null
          }
        },
        "94484b7089654bdcaf00f7c18442e088": {
          "model_module": "@jupyter-widgets/controls",
          "model_name": "DescriptionStyleModel",
          "model_module_version": "1.5.0",
          "state": {
            "_model_module": "@jupyter-widgets/controls",
            "_model_module_version": "1.5.0",
            "_model_name": "DescriptionStyleModel",
            "_view_count": null,
            "_view_module": "@jupyter-widgets/base",
            "_view_module_version": "1.2.0",
            "_view_name": "StyleView",
            "description_width": ""
          }
        },
        "d93291c260ac48f8ac442bdf1dcf90dd": {
          "model_module": "@jupyter-widgets/controls",
          "model_name": "HBoxModel",
          "model_module_version": "1.5.0",
          "state": {
            "_dom_classes": [],
            "_model_module": "@jupyter-widgets/controls",
            "_model_module_version": "1.5.0",
            "_model_name": "HBoxModel",
            "_view_count": null,
            "_view_module": "@jupyter-widgets/controls",
            "_view_module_version": "1.5.0",
            "_view_name": "HBoxView",
            "box_style": "",
            "children": [
              "IPY_MODEL_9e49341ebb304627af311dda18ee2bdc",
              "IPY_MODEL_85b403c5eac44b6a87a63b405b331192",
              "IPY_MODEL_4dab94e892e941c688c8a915e3c7e834"
            ],
            "layout": "IPY_MODEL_40badde84b7a4a90bc5d77dacf41fc39"
          }
        },
        "9e49341ebb304627af311dda18ee2bdc": {
          "model_module": "@jupyter-widgets/controls",
          "model_name": "HTMLModel",
          "model_module_version": "1.5.0",
          "state": {
            "_dom_classes": [],
            "_model_module": "@jupyter-widgets/controls",
            "_model_module_version": "1.5.0",
            "_model_name": "HTMLModel",
            "_view_count": null,
            "_view_module": "@jupyter-widgets/controls",
            "_view_module_version": "1.5.0",
            "_view_name": "HTMLView",
            "description": "",
            "description_tooltip": null,
            "layout": "IPY_MODEL_7eb079b54af94d348daeff23fc3d4d47",
            "placeholder": "​",
            "style": "IPY_MODEL_0d37585e5a054bad80c9f85ccb821dde",
            "value": "100%"
          }
        },
        "85b403c5eac44b6a87a63b405b331192": {
          "model_module": "@jupyter-widgets/controls",
          "model_name": "FloatProgressModel",
          "model_module_version": "1.5.0",
          "state": {
            "_dom_classes": [],
            "_model_module": "@jupyter-widgets/controls",
            "_model_module_version": "1.5.0",
            "_model_name": "FloatProgressModel",
            "_view_count": null,
            "_view_module": "@jupyter-widgets/controls",
            "_view_module_version": "1.5.0",
            "_view_name": "ProgressView",
            "bar_style": "success",
            "description": "",
            "description_tooltip": null,
            "layout": "IPY_MODEL_5f015064840149259180bb6039987eb6",
            "max": 112,
            "min": 0,
            "orientation": "horizontal",
            "style": "IPY_MODEL_3c926a4f7785473e930d48f7f31482ed",
            "value": 112
          }
        },
        "4dab94e892e941c688c8a915e3c7e834": {
          "model_module": "@jupyter-widgets/controls",
          "model_name": "HTMLModel",
          "model_module_version": "1.5.0",
          "state": {
            "_dom_classes": [],
            "_model_module": "@jupyter-widgets/controls",
            "_model_module_version": "1.5.0",
            "_model_name": "HTMLModel",
            "_view_count": null,
            "_view_module": "@jupyter-widgets/controls",
            "_view_module_version": "1.5.0",
            "_view_name": "HTMLView",
            "description": "",
            "description_tooltip": null,
            "layout": "IPY_MODEL_bf0206fce6fd4df3a642f01b96dda3a4",
            "placeholder": "​",
            "style": "IPY_MODEL_0ffb71e07e624d5abf25a0ec133aeb55",
            "value": " 112/112 [00:00&lt;00:00, 974.54it/s]"
          }
        },
        "40badde84b7a4a90bc5d77dacf41fc39": {
          "model_module": "@jupyter-widgets/base",
          "model_name": "LayoutModel",
          "model_module_version": "1.2.0",
          "state": {
            "_model_module": "@jupyter-widgets/base",
            "_model_module_version": "1.2.0",
            "_model_name": "LayoutModel",
            "_view_count": null,
            "_view_module": "@jupyter-widgets/base",
            "_view_module_version": "1.2.0",
            "_view_name": "LayoutView",
            "align_content": null,
            "align_items": null,
            "align_self": null,
            "border": null,
            "bottom": null,
            "display": null,
            "flex": null,
            "flex_flow": null,
            "grid_area": null,
            "grid_auto_columns": null,
            "grid_auto_flow": null,
            "grid_auto_rows": null,
            "grid_column": null,
            "grid_gap": null,
            "grid_row": null,
            "grid_template_areas": null,
            "grid_template_columns": null,
            "grid_template_rows": null,
            "height": null,
            "justify_content": null,
            "justify_items": null,
            "left": null,
            "margin": null,
            "max_height": null,
            "max_width": null,
            "min_height": null,
            "min_width": null,
            "object_fit": null,
            "object_position": null,
            "order": null,
            "overflow": null,
            "overflow_x": null,
            "overflow_y": null,
            "padding": null,
            "right": null,
            "top": null,
            "visibility": null,
            "width": null
          }
        },
        "7eb079b54af94d348daeff23fc3d4d47": {
          "model_module": "@jupyter-widgets/base",
          "model_name": "LayoutModel",
          "model_module_version": "1.2.0",
          "state": {
            "_model_module": "@jupyter-widgets/base",
            "_model_module_version": "1.2.0",
            "_model_name": "LayoutModel",
            "_view_count": null,
            "_view_module": "@jupyter-widgets/base",
            "_view_module_version": "1.2.0",
            "_view_name": "LayoutView",
            "align_content": null,
            "align_items": null,
            "align_self": null,
            "border": null,
            "bottom": null,
            "display": null,
            "flex": null,
            "flex_flow": null,
            "grid_area": null,
            "grid_auto_columns": null,
            "grid_auto_flow": null,
            "grid_auto_rows": null,
            "grid_column": null,
            "grid_gap": null,
            "grid_row": null,
            "grid_template_areas": null,
            "grid_template_columns": null,
            "grid_template_rows": null,
            "height": null,
            "justify_content": null,
            "justify_items": null,
            "left": null,
            "margin": null,
            "max_height": null,
            "max_width": null,
            "min_height": null,
            "min_width": null,
            "object_fit": null,
            "object_position": null,
            "order": null,
            "overflow": null,
            "overflow_x": null,
            "overflow_y": null,
            "padding": null,
            "right": null,
            "top": null,
            "visibility": null,
            "width": null
          }
        },
        "0d37585e5a054bad80c9f85ccb821dde": {
          "model_module": "@jupyter-widgets/controls",
          "model_name": "DescriptionStyleModel",
          "model_module_version": "1.5.0",
          "state": {
            "_model_module": "@jupyter-widgets/controls",
            "_model_module_version": "1.5.0",
            "_model_name": "DescriptionStyleModel",
            "_view_count": null,
            "_view_module": "@jupyter-widgets/base",
            "_view_module_version": "1.2.0",
            "_view_name": "StyleView",
            "description_width": ""
          }
        },
        "5f015064840149259180bb6039987eb6": {
          "model_module": "@jupyter-widgets/base",
          "model_name": "LayoutModel",
          "model_module_version": "1.2.0",
          "state": {
            "_model_module": "@jupyter-widgets/base",
            "_model_module_version": "1.2.0",
            "_model_name": "LayoutModel",
            "_view_count": null,
            "_view_module": "@jupyter-widgets/base",
            "_view_module_version": "1.2.0",
            "_view_name": "LayoutView",
            "align_content": null,
            "align_items": null,
            "align_self": null,
            "border": null,
            "bottom": null,
            "display": null,
            "flex": null,
            "flex_flow": null,
            "grid_area": null,
            "grid_auto_columns": null,
            "grid_auto_flow": null,
            "grid_auto_rows": null,
            "grid_column": null,
            "grid_gap": null,
            "grid_row": null,
            "grid_template_areas": null,
            "grid_template_columns": null,
            "grid_template_rows": null,
            "height": null,
            "justify_content": null,
            "justify_items": null,
            "left": null,
            "margin": null,
            "max_height": null,
            "max_width": null,
            "min_height": null,
            "min_width": null,
            "object_fit": null,
            "object_position": null,
            "order": null,
            "overflow": null,
            "overflow_x": null,
            "overflow_y": null,
            "padding": null,
            "right": null,
            "top": null,
            "visibility": null,
            "width": null
          }
        },
        "3c926a4f7785473e930d48f7f31482ed": {
          "model_module": "@jupyter-widgets/controls",
          "model_name": "ProgressStyleModel",
          "model_module_version": "1.5.0",
          "state": {
            "_model_module": "@jupyter-widgets/controls",
            "_model_module_version": "1.5.0",
            "_model_name": "ProgressStyleModel",
            "_view_count": null,
            "_view_module": "@jupyter-widgets/base",
            "_view_module_version": "1.2.0",
            "_view_name": "StyleView",
            "bar_color": null,
            "description_width": ""
          }
        },
        "bf0206fce6fd4df3a642f01b96dda3a4": {
          "model_module": "@jupyter-widgets/base",
          "model_name": "LayoutModel",
          "model_module_version": "1.2.0",
          "state": {
            "_model_module": "@jupyter-widgets/base",
            "_model_module_version": "1.2.0",
            "_model_name": "LayoutModel",
            "_view_count": null,
            "_view_module": "@jupyter-widgets/base",
            "_view_module_version": "1.2.0",
            "_view_name": "LayoutView",
            "align_content": null,
            "align_items": null,
            "align_self": null,
            "border": null,
            "bottom": null,
            "display": null,
            "flex": null,
            "flex_flow": null,
            "grid_area": null,
            "grid_auto_columns": null,
            "grid_auto_flow": null,
            "grid_auto_rows": null,
            "grid_column": null,
            "grid_gap": null,
            "grid_row": null,
            "grid_template_areas": null,
            "grid_template_columns": null,
            "grid_template_rows": null,
            "height": null,
            "justify_content": null,
            "justify_items": null,
            "left": null,
            "margin": null,
            "max_height": null,
            "max_width": null,
            "min_height": null,
            "min_width": null,
            "object_fit": null,
            "object_position": null,
            "order": null,
            "overflow": null,
            "overflow_x": null,
            "overflow_y": null,
            "padding": null,
            "right": null,
            "top": null,
            "visibility": null,
            "width": null
          }
        },
        "0ffb71e07e624d5abf25a0ec133aeb55": {
          "model_module": "@jupyter-widgets/controls",
          "model_name": "DescriptionStyleModel",
          "model_module_version": "1.5.0",
          "state": {
            "_model_module": "@jupyter-widgets/controls",
            "_model_module_version": "1.5.0",
            "_model_name": "DescriptionStyleModel",
            "_view_count": null,
            "_view_module": "@jupyter-widgets/base",
            "_view_module_version": "1.2.0",
            "_view_name": "StyleView",
            "description_width": ""
          }
        },
        "2b21252d75a44800b469d5580380cb6c": {
          "model_module": "@jupyter-widgets/controls",
          "model_name": "HBoxModel",
          "model_module_version": "1.5.0",
          "state": {
            "_dom_classes": [],
            "_model_module": "@jupyter-widgets/controls",
            "_model_module_version": "1.5.0",
            "_model_name": "HBoxModel",
            "_view_count": null,
            "_view_module": "@jupyter-widgets/controls",
            "_view_module_version": "1.5.0",
            "_view_name": "HBoxView",
            "box_style": "",
            "children": [
              "IPY_MODEL_fb3c63ac79354c318027d1f9c35e43d1",
              "IPY_MODEL_5f6ebd40a6b94f19be33dddb21d8f768",
              "IPY_MODEL_3999f2a0d9bf470e9777e92cf1aa50d2"
            ],
            "layout": "IPY_MODEL_7febd5de8c45411d824386e1f587d0e7"
          }
        },
        "fb3c63ac79354c318027d1f9c35e43d1": {
          "model_module": "@jupyter-widgets/controls",
          "model_name": "HTMLModel",
          "model_module_version": "1.5.0",
          "state": {
            "_dom_classes": [],
            "_model_module": "@jupyter-widgets/controls",
            "_model_module_version": "1.5.0",
            "_model_name": "HTMLModel",
            "_view_count": null,
            "_view_module": "@jupyter-widgets/controls",
            "_view_module_version": "1.5.0",
            "_view_name": "HTMLView",
            "description": "",
            "description_tooltip": null,
            "layout": "IPY_MODEL_fda3686e833e4cd19f3b873d293cca3e",
            "placeholder": "​",
            "style": "IPY_MODEL_28c223ea345948faaba7e9c36f802e6e",
            "value": "100%"
          }
        },
        "5f6ebd40a6b94f19be33dddb21d8f768": {
          "model_module": "@jupyter-widgets/controls",
          "model_name": "FloatProgressModel",
          "model_module_version": "1.5.0",
          "state": {
            "_dom_classes": [],
            "_model_module": "@jupyter-widgets/controls",
            "_model_module_version": "1.5.0",
            "_model_name": "FloatProgressModel",
            "_view_count": null,
            "_view_module": "@jupyter-widgets/controls",
            "_view_module_version": "1.5.0",
            "_view_name": "ProgressView",
            "bar_style": "success",
            "description": "",
            "description_tooltip": null,
            "layout": "IPY_MODEL_1b39a23d27434835a0da8a1c26897a2d",
            "max": 1,
            "min": 0,
            "orientation": "horizontal",
            "style": "IPY_MODEL_b7f30e22c0d54efc815c2f083383c005",
            "value": 1
          }
        },
        "3999f2a0d9bf470e9777e92cf1aa50d2": {
          "model_module": "@jupyter-widgets/controls",
          "model_name": "HTMLModel",
          "model_module_version": "1.5.0",
          "state": {
            "_dom_classes": [],
            "_model_module": "@jupyter-widgets/controls",
            "_model_module_version": "1.5.0",
            "_model_name": "HTMLModel",
            "_view_count": null,
            "_view_module": "@jupyter-widgets/controls",
            "_view_module_version": "1.5.0",
            "_view_name": "HTMLView",
            "description": "",
            "description_tooltip": null,
            "layout": "IPY_MODEL_d3a4f07354e54ae6a8bbe88b79fa3b44",
            "placeholder": "​",
            "style": "IPY_MODEL_1ae556d382b44162a0d0ce19229d515c",
            "value": " 1/1 [00:00&lt;00:00, 45.82it/s]"
          }
        },
        "7febd5de8c45411d824386e1f587d0e7": {
          "model_module": "@jupyter-widgets/base",
          "model_name": "LayoutModel",
          "model_module_version": "1.2.0",
          "state": {
            "_model_module": "@jupyter-widgets/base",
            "_model_module_version": "1.2.0",
            "_model_name": "LayoutModel",
            "_view_count": null,
            "_view_module": "@jupyter-widgets/base",
            "_view_module_version": "1.2.0",
            "_view_name": "LayoutView",
            "align_content": null,
            "align_items": null,
            "align_self": null,
            "border": null,
            "bottom": null,
            "display": null,
            "flex": null,
            "flex_flow": null,
            "grid_area": null,
            "grid_auto_columns": null,
            "grid_auto_flow": null,
            "grid_auto_rows": null,
            "grid_column": null,
            "grid_gap": null,
            "grid_row": null,
            "grid_template_areas": null,
            "grid_template_columns": null,
            "grid_template_rows": null,
            "height": null,
            "justify_content": null,
            "justify_items": null,
            "left": null,
            "margin": null,
            "max_height": null,
            "max_width": null,
            "min_height": null,
            "min_width": null,
            "object_fit": null,
            "object_position": null,
            "order": null,
            "overflow": null,
            "overflow_x": null,
            "overflow_y": null,
            "padding": null,
            "right": null,
            "top": null,
            "visibility": null,
            "width": null
          }
        },
        "fda3686e833e4cd19f3b873d293cca3e": {
          "model_module": "@jupyter-widgets/base",
          "model_name": "LayoutModel",
          "model_module_version": "1.2.0",
          "state": {
            "_model_module": "@jupyter-widgets/base",
            "_model_module_version": "1.2.0",
            "_model_name": "LayoutModel",
            "_view_count": null,
            "_view_module": "@jupyter-widgets/base",
            "_view_module_version": "1.2.0",
            "_view_name": "LayoutView",
            "align_content": null,
            "align_items": null,
            "align_self": null,
            "border": null,
            "bottom": null,
            "display": null,
            "flex": null,
            "flex_flow": null,
            "grid_area": null,
            "grid_auto_columns": null,
            "grid_auto_flow": null,
            "grid_auto_rows": null,
            "grid_column": null,
            "grid_gap": null,
            "grid_row": null,
            "grid_template_areas": null,
            "grid_template_columns": null,
            "grid_template_rows": null,
            "height": null,
            "justify_content": null,
            "justify_items": null,
            "left": null,
            "margin": null,
            "max_height": null,
            "max_width": null,
            "min_height": null,
            "min_width": null,
            "object_fit": null,
            "object_position": null,
            "order": null,
            "overflow": null,
            "overflow_x": null,
            "overflow_y": null,
            "padding": null,
            "right": null,
            "top": null,
            "visibility": null,
            "width": null
          }
        },
        "28c223ea345948faaba7e9c36f802e6e": {
          "model_module": "@jupyter-widgets/controls",
          "model_name": "DescriptionStyleModel",
          "model_module_version": "1.5.0",
          "state": {
            "_model_module": "@jupyter-widgets/controls",
            "_model_module_version": "1.5.0",
            "_model_name": "DescriptionStyleModel",
            "_view_count": null,
            "_view_module": "@jupyter-widgets/base",
            "_view_module_version": "1.2.0",
            "_view_name": "StyleView",
            "description_width": ""
          }
        },
        "1b39a23d27434835a0da8a1c26897a2d": {
          "model_module": "@jupyter-widgets/base",
          "model_name": "LayoutModel",
          "model_module_version": "1.2.0",
          "state": {
            "_model_module": "@jupyter-widgets/base",
            "_model_module_version": "1.2.0",
            "_model_name": "LayoutModel",
            "_view_count": null,
            "_view_module": "@jupyter-widgets/base",
            "_view_module_version": "1.2.0",
            "_view_name": "LayoutView",
            "align_content": null,
            "align_items": null,
            "align_self": null,
            "border": null,
            "bottom": null,
            "display": null,
            "flex": null,
            "flex_flow": null,
            "grid_area": null,
            "grid_auto_columns": null,
            "grid_auto_flow": null,
            "grid_auto_rows": null,
            "grid_column": null,
            "grid_gap": null,
            "grid_row": null,
            "grid_template_areas": null,
            "grid_template_columns": null,
            "grid_template_rows": null,
            "height": null,
            "justify_content": null,
            "justify_items": null,
            "left": null,
            "margin": null,
            "max_height": null,
            "max_width": null,
            "min_height": null,
            "min_width": null,
            "object_fit": null,
            "object_position": null,
            "order": null,
            "overflow": null,
            "overflow_x": null,
            "overflow_y": null,
            "padding": null,
            "right": null,
            "top": null,
            "visibility": null,
            "width": null
          }
        },
        "b7f30e22c0d54efc815c2f083383c005": {
          "model_module": "@jupyter-widgets/controls",
          "model_name": "ProgressStyleModel",
          "model_module_version": "1.5.0",
          "state": {
            "_model_module": "@jupyter-widgets/controls",
            "_model_module_version": "1.5.0",
            "_model_name": "ProgressStyleModel",
            "_view_count": null,
            "_view_module": "@jupyter-widgets/base",
            "_view_module_version": "1.2.0",
            "_view_name": "StyleView",
            "bar_color": null,
            "description_width": ""
          }
        },
        "d3a4f07354e54ae6a8bbe88b79fa3b44": {
          "model_module": "@jupyter-widgets/base",
          "model_name": "LayoutModel",
          "model_module_version": "1.2.0",
          "state": {
            "_model_module": "@jupyter-widgets/base",
            "_model_module_version": "1.2.0",
            "_model_name": "LayoutModel",
            "_view_count": null,
            "_view_module": "@jupyter-widgets/base",
            "_view_module_version": "1.2.0",
            "_view_name": "LayoutView",
            "align_content": null,
            "align_items": null,
            "align_self": null,
            "border": null,
            "bottom": null,
            "display": null,
            "flex": null,
            "flex_flow": null,
            "grid_area": null,
            "grid_auto_columns": null,
            "grid_auto_flow": null,
            "grid_auto_rows": null,
            "grid_column": null,
            "grid_gap": null,
            "grid_row": null,
            "grid_template_areas": null,
            "grid_template_columns": null,
            "grid_template_rows": null,
            "height": null,
            "justify_content": null,
            "justify_items": null,
            "left": null,
            "margin": null,
            "max_height": null,
            "max_width": null,
            "min_height": null,
            "min_width": null,
            "object_fit": null,
            "object_position": null,
            "order": null,
            "overflow": null,
            "overflow_x": null,
            "overflow_y": null,
            "padding": null,
            "right": null,
            "top": null,
            "visibility": null,
            "width": null
          }
        },
        "1ae556d382b44162a0d0ce19229d515c": {
          "model_module": "@jupyter-widgets/controls",
          "model_name": "DescriptionStyleModel",
          "model_module_version": "1.5.0",
          "state": {
            "_model_module": "@jupyter-widgets/controls",
            "_model_module_version": "1.5.0",
            "_model_name": "DescriptionStyleModel",
            "_view_count": null,
            "_view_module": "@jupyter-widgets/base",
            "_view_module_version": "1.2.0",
            "_view_name": "StyleView",
            "description_width": ""
          }
        },
        "fba79f8b4c7a4cf598d47527c593b532": {
          "model_module": "@jupyter-widgets/controls",
          "model_name": "HBoxModel",
          "model_module_version": "1.5.0",
          "state": {
            "_dom_classes": [],
            "_model_module": "@jupyter-widgets/controls",
            "_model_module_version": "1.5.0",
            "_model_name": "HBoxModel",
            "_view_count": null,
            "_view_module": "@jupyter-widgets/controls",
            "_view_module_version": "1.5.0",
            "_view_name": "HBoxView",
            "box_style": "",
            "children": [
              "IPY_MODEL_9fcd5427dc3943089552b98062630b2f",
              "IPY_MODEL_0f23b27363c3470ea4b6eb2147ebb126",
              "IPY_MODEL_62b2663ce1084aa7ac892e876e4e70df"
            ],
            "layout": "IPY_MODEL_da676d6dfd1640bdb31b9f72760ffcc4"
          }
        },
        "9fcd5427dc3943089552b98062630b2f": {
          "model_module": "@jupyter-widgets/controls",
          "model_name": "HTMLModel",
          "model_module_version": "1.5.0",
          "state": {
            "_dom_classes": [],
            "_model_module": "@jupyter-widgets/controls",
            "_model_module_version": "1.5.0",
            "_model_name": "HTMLModel",
            "_view_count": null,
            "_view_module": "@jupyter-widgets/controls",
            "_view_module_version": "1.5.0",
            "_view_name": "HTMLView",
            "description": "",
            "description_tooltip": null,
            "layout": "IPY_MODEL_b3fea564c7e340d08ffe3b928e09930e",
            "placeholder": "​",
            "style": "IPY_MODEL_7ce9e75fcfa4453ebd8082d3fc626746",
            "value": "100%"
          }
        },
        "0f23b27363c3470ea4b6eb2147ebb126": {
          "model_module": "@jupyter-widgets/controls",
          "model_name": "FloatProgressModel",
          "model_module_version": "1.5.0",
          "state": {
            "_dom_classes": [],
            "_model_module": "@jupyter-widgets/controls",
            "_model_module_version": "1.5.0",
            "_model_name": "FloatProgressModel",
            "_view_count": null,
            "_view_module": "@jupyter-widgets/controls",
            "_view_module_version": "1.5.0",
            "_view_name": "ProgressView",
            "bar_style": "success",
            "description": "",
            "description_tooltip": null,
            "layout": "IPY_MODEL_2e6b16c07d9d480d8547a185008e6e06",
            "max": 1,
            "min": 0,
            "orientation": "horizontal",
            "style": "IPY_MODEL_0314cb7275814111a51d7303cd14d7e2",
            "value": 1
          }
        },
        "62b2663ce1084aa7ac892e876e4e70df": {
          "model_module": "@jupyter-widgets/controls",
          "model_name": "HTMLModel",
          "model_module_version": "1.5.0",
          "state": {
            "_dom_classes": [],
            "_model_module": "@jupyter-widgets/controls",
            "_model_module_version": "1.5.0",
            "_model_name": "HTMLModel",
            "_view_count": null,
            "_view_module": "@jupyter-widgets/controls",
            "_view_module_version": "1.5.0",
            "_view_name": "HTMLView",
            "description": "",
            "description_tooltip": null,
            "layout": "IPY_MODEL_df3718435a014112b62e270ed80aa30d",
            "placeholder": "​",
            "style": "IPY_MODEL_6e0070111fef4fbca829be69453400d3",
            "value": " 1/1 [00:00&lt;00:00, 49.82it/s]"
          }
        },
        "da676d6dfd1640bdb31b9f72760ffcc4": {
          "model_module": "@jupyter-widgets/base",
          "model_name": "LayoutModel",
          "model_module_version": "1.2.0",
          "state": {
            "_model_module": "@jupyter-widgets/base",
            "_model_module_version": "1.2.0",
            "_model_name": "LayoutModel",
            "_view_count": null,
            "_view_module": "@jupyter-widgets/base",
            "_view_module_version": "1.2.0",
            "_view_name": "LayoutView",
            "align_content": null,
            "align_items": null,
            "align_self": null,
            "border": null,
            "bottom": null,
            "display": null,
            "flex": null,
            "flex_flow": null,
            "grid_area": null,
            "grid_auto_columns": null,
            "grid_auto_flow": null,
            "grid_auto_rows": null,
            "grid_column": null,
            "grid_gap": null,
            "grid_row": null,
            "grid_template_areas": null,
            "grid_template_columns": null,
            "grid_template_rows": null,
            "height": null,
            "justify_content": null,
            "justify_items": null,
            "left": null,
            "margin": null,
            "max_height": null,
            "max_width": null,
            "min_height": null,
            "min_width": null,
            "object_fit": null,
            "object_position": null,
            "order": null,
            "overflow": null,
            "overflow_x": null,
            "overflow_y": null,
            "padding": null,
            "right": null,
            "top": null,
            "visibility": null,
            "width": null
          }
        },
        "b3fea564c7e340d08ffe3b928e09930e": {
          "model_module": "@jupyter-widgets/base",
          "model_name": "LayoutModel",
          "model_module_version": "1.2.0",
          "state": {
            "_model_module": "@jupyter-widgets/base",
            "_model_module_version": "1.2.0",
            "_model_name": "LayoutModel",
            "_view_count": null,
            "_view_module": "@jupyter-widgets/base",
            "_view_module_version": "1.2.0",
            "_view_name": "LayoutView",
            "align_content": null,
            "align_items": null,
            "align_self": null,
            "border": null,
            "bottom": null,
            "display": null,
            "flex": null,
            "flex_flow": null,
            "grid_area": null,
            "grid_auto_columns": null,
            "grid_auto_flow": null,
            "grid_auto_rows": null,
            "grid_column": null,
            "grid_gap": null,
            "grid_row": null,
            "grid_template_areas": null,
            "grid_template_columns": null,
            "grid_template_rows": null,
            "height": null,
            "justify_content": null,
            "justify_items": null,
            "left": null,
            "margin": null,
            "max_height": null,
            "max_width": null,
            "min_height": null,
            "min_width": null,
            "object_fit": null,
            "object_position": null,
            "order": null,
            "overflow": null,
            "overflow_x": null,
            "overflow_y": null,
            "padding": null,
            "right": null,
            "top": null,
            "visibility": null,
            "width": null
          }
        },
        "7ce9e75fcfa4453ebd8082d3fc626746": {
          "model_module": "@jupyter-widgets/controls",
          "model_name": "DescriptionStyleModel",
          "model_module_version": "1.5.0",
          "state": {
            "_model_module": "@jupyter-widgets/controls",
            "_model_module_version": "1.5.0",
            "_model_name": "DescriptionStyleModel",
            "_view_count": null,
            "_view_module": "@jupyter-widgets/base",
            "_view_module_version": "1.2.0",
            "_view_name": "StyleView",
            "description_width": ""
          }
        },
        "2e6b16c07d9d480d8547a185008e6e06": {
          "model_module": "@jupyter-widgets/base",
          "model_name": "LayoutModel",
          "model_module_version": "1.2.0",
          "state": {
            "_model_module": "@jupyter-widgets/base",
            "_model_module_version": "1.2.0",
            "_model_name": "LayoutModel",
            "_view_count": null,
            "_view_module": "@jupyter-widgets/base",
            "_view_module_version": "1.2.0",
            "_view_name": "LayoutView",
            "align_content": null,
            "align_items": null,
            "align_self": null,
            "border": null,
            "bottom": null,
            "display": null,
            "flex": null,
            "flex_flow": null,
            "grid_area": null,
            "grid_auto_columns": null,
            "grid_auto_flow": null,
            "grid_auto_rows": null,
            "grid_column": null,
            "grid_gap": null,
            "grid_row": null,
            "grid_template_areas": null,
            "grid_template_columns": null,
            "grid_template_rows": null,
            "height": null,
            "justify_content": null,
            "justify_items": null,
            "left": null,
            "margin": null,
            "max_height": null,
            "max_width": null,
            "min_height": null,
            "min_width": null,
            "object_fit": null,
            "object_position": null,
            "order": null,
            "overflow": null,
            "overflow_x": null,
            "overflow_y": null,
            "padding": null,
            "right": null,
            "top": null,
            "visibility": null,
            "width": null
          }
        },
        "0314cb7275814111a51d7303cd14d7e2": {
          "model_module": "@jupyter-widgets/controls",
          "model_name": "ProgressStyleModel",
          "model_module_version": "1.5.0",
          "state": {
            "_model_module": "@jupyter-widgets/controls",
            "_model_module_version": "1.5.0",
            "_model_name": "ProgressStyleModel",
            "_view_count": null,
            "_view_module": "@jupyter-widgets/base",
            "_view_module_version": "1.2.0",
            "_view_name": "StyleView",
            "bar_color": null,
            "description_width": ""
          }
        },
        "df3718435a014112b62e270ed80aa30d": {
          "model_module": "@jupyter-widgets/base",
          "model_name": "LayoutModel",
          "model_module_version": "1.2.0",
          "state": {
            "_model_module": "@jupyter-widgets/base",
            "_model_module_version": "1.2.0",
            "_model_name": "LayoutModel",
            "_view_count": null,
            "_view_module": "@jupyter-widgets/base",
            "_view_module_version": "1.2.0",
            "_view_name": "LayoutView",
            "align_content": null,
            "align_items": null,
            "align_self": null,
            "border": null,
            "bottom": null,
            "display": null,
            "flex": null,
            "flex_flow": null,
            "grid_area": null,
            "grid_auto_columns": null,
            "grid_auto_flow": null,
            "grid_auto_rows": null,
            "grid_column": null,
            "grid_gap": null,
            "grid_row": null,
            "grid_template_areas": null,
            "grid_template_columns": null,
            "grid_template_rows": null,
            "height": null,
            "justify_content": null,
            "justify_items": null,
            "left": null,
            "margin": null,
            "max_height": null,
            "max_width": null,
            "min_height": null,
            "min_width": null,
            "object_fit": null,
            "object_position": null,
            "order": null,
            "overflow": null,
            "overflow_x": null,
            "overflow_y": null,
            "padding": null,
            "right": null,
            "top": null,
            "visibility": null,
            "width": null
          }
        },
        "6e0070111fef4fbca829be69453400d3": {
          "model_module": "@jupyter-widgets/controls",
          "model_name": "DescriptionStyleModel",
          "model_module_version": "1.5.0",
          "state": {
            "_model_module": "@jupyter-widgets/controls",
            "_model_module_version": "1.5.0",
            "_model_name": "DescriptionStyleModel",
            "_view_count": null,
            "_view_module": "@jupyter-widgets/base",
            "_view_module_version": "1.2.0",
            "_view_name": "StyleView",
            "description_width": ""
          }
        }
      }
    },
    "colab": {
      "provenance": []
    }
  },
  "nbformat": 4,
  "nbformat_minor": 5
}